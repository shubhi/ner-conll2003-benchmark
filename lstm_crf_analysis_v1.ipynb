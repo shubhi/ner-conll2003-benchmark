{
 "cells": [
  {
   "cell_type": "markdown",
   "id": "c0710f2e-82c2-40e8-a763-121679880de3",
   "metadata": {},
   "source": [
    "# LSTM CRF Results Analysis"
   ]
  },
  {
   "cell_type": "code",
   "execution_count": null,
   "id": "fd76f23d-6e5a-460c-9ff9-82b29d15b156",
   "metadata": {},
   "outputs": [],
   "source": [
    "import os\n",
    "\n",
    "import matplotlib.pyplot as plt\n",
    "import pandas as pd"
   ]
  },
  {
   "cell_type": "code",
   "execution_count": null,
   "id": "87a9e3e1-c57d-4b2b-8952-84574732b1f4",
   "metadata": {},
   "outputs": [],
   "source": [
    "folder_path = \"results\""
   ]
  },
  {
   "cell_type": "code",
   "execution_count": null,
   "id": "a5765b1e-4fb5-4c6d-ac5d-fa92c25726b8",
   "metadata": {},
   "outputs": [],
   "source": [
    "loss_files = [f for f in os.listdir(folder_path) if f.startswith(\"losses\") and f.endswith(\".csv\")]\n",
    "accuracy_files = [f for f in os.listdir(folder_path) if f.startswith(\"accuracies\") and f.endswith(\".csv\")]"
   ]
  },
  {
   "cell_type": "code",
   "execution_count": null,
   "id": "fa989c28-7f68-40fc-8a9c-131aa84b32f3",
   "metadata": {},
   "outputs": [],
   "source": [
    "def extract_hyperparams(filename):\n",
    "    parts = filename.split(\"_\")\n",
    "    lr = float(parts[2])\n",
    "    dropout = float(parts[4].replace(\".csv\", \"\"))\n",
    "    return lr, dropout"
   ]
  },
  {
   "cell_type": "code",
   "execution_count": null,
   "id": "b14312d5-d345-424f-b12a-e7b58622010e",
   "metadata": {},
   "outputs": [],
   "source": [
    "loss_groups = {}\n",
    "accuracy_groups = {}"
   ]
  },
  {
   "cell_type": "code",
   "execution_count": null,
   "id": "34e3c130-feba-45ce-925f-c44e24b8eefe",
   "metadata": {},
   "outputs": [],
   "source": [
    "for file in loss_files:\n",
    "    lr, dropout = extract_hyperparams(file)\n",
    "    loss_groups[(lr, dropout)] = os.path.join(folder_path, file)\n",
    "\n",
    "for file in accuracy_files:\n",
    "    lr, dropout = extract_hyperparams(file)\n",
    "    accuracy_groups[(lr, dropout)] = os.path.join(folder_path, file)"
   ]
  },
  {
   "cell_type": "code",
   "execution_count": null,
   "id": "7cbe09bf-256a-4217-b41e-8d167cc631bf",
   "metadata": {},
   "outputs": [],
   "source": [
    "for lr, dropout in loss_groups.keys():\n",
    "    # Read the corresponding loss and accuracy files\n",
    "    loss_df = pd.read_csv(loss_groups[(lr, dropout)])\n",
    "    accuracy_df = pd.read_csv(accuracy_groups[(lr, dropout)])\n",
    "\n",
    "    # Multiply index of val_loss by 50\n",
    "    loss_df[\"epoch\"] = loss_df[\"epoch\"]\n",
    "    loss_df[\"val_loss_epoch\"] = ((loss_df[\"val_loss\"].notnull()).cumsum() - 1) * 50 + 50\n",
    "    loss_df[\"val_loss_epoch\"] = loss_df[\"val_loss_epoch\"].where(loss_df[\"val_loss\"].notnull())\n",
    "    accuracy_df[\"epoch\"] = accuracy_df[\"epoch\"] * 50\n",
    "\n",
    "    # Create a figure with two subplots\n",
    "    fig, axes = plt.subplots(2, 1, figsize=(10, 12))\n",
    "\n",
    "    # Plot losses\n",
    "    axes[0].plot(loss_df[\"epoch\"], loss_df[\"train_loss\"], label=\"Training Loss\", color=\"blue\")\n",
    "    axes[0].plot(loss_df[\"val_loss_epoch\"], loss_df[\"val_loss\"], label=\"Validation Loss\", color=\"orange\")\n",
    "    axes[0].set_title(f\"Losses for LR: {lr}, Dropout: {dropout}\")\n",
    "    axes[0].set_xlabel(\"Epochs\")\n",
    "    axes[0].set_ylabel(\"Loss\")\n",
    "    axes[0].legend()\n",
    "    axes[0].grid()\n",
    "\n",
    "    # Plot accuracies\n",
    "    axes[1].plot(accuracy_df[\"epoch\"], accuracy_df[\"train_accuracy\"], label=\"Training Accuracy\", color=\"green\")\n",
    "    axes[1].plot(accuracy_df[\"epoch\"], accuracy_df[\"val_accuracy\"], label=\"Validation Accuracy\", color=\"red\")\n",
    "    axes[1].set_title(f\"Accuracies for LR: {lr}, Dropout: {dropout}\")\n",
    "    axes[1].set_xlabel(\"Epochs\")\n",
    "    axes[1].set_ylabel(\"Accuracy\")\n",
    "    axes[1].legend()\n",
    "    axes[1].grid()\n",
    "\n",
    "    # Adjust layout and save the figure\n",
    "    plt.tight_layout()\n",
    "    plot_filename = os.path.join(folder_path, f\"plot_lr_{lr}_dropout_{dropout}.png\")\n",
    "    plt.savefig(plot_filename)\n",
    "    plt.close()\n",
    "\n",
    "    print(f\"Saved plot for LR: {lr}, Dropout: {dropout} at {plot_filename}\")"
   ]
  },
  {
   "cell_type": "code",
   "execution_count": null,
   "id": "dcdbbdf7-0e69-4c96-80f5-01ffa9fbd99a",
   "metadata": {},
   "outputs": [],
   "source": []
  }
 ],
 "metadata": {
  "kernelspec": {
   "display_name": "Python 3 (ipykernel)",
   "language": "python",
   "name": "python3"
  },
  "language_info": {
   "codemirror_mode": {
    "name": "ipython",
    "version": 3
   },
   "file_extension": ".py",
   "mimetype": "text/x-python",
   "name": "python",
   "nbconvert_exporter": "python",
   "pygments_lexer": "ipython3",
   "version": "3.12.7"
  }
 },
 "nbformat": 4,
 "nbformat_minor": 5
}
