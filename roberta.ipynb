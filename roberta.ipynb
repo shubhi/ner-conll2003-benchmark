{
 "cells": [
  {
   "cell_type": "code",
   "execution_count": 1,
   "metadata": {},
   "outputs": [
    {
     "name": "stderr",
     "output_type": "stream",
     "text": [
      "/Users/devambani/Projects/nlp/nlp/lib/python3.11/site-packages/tqdm/auto.py:21: TqdmWarning: IProgress not found. Please update jupyter and ipywidgets. See https://ipywidgets.readthedocs.io/en/stable/user_install.html\n",
      "  from .autonotebook import tqdm as notebook_tqdm\n"
     ]
    }
   ],
   "source": [
    "import matplotlib.pyplot as plt\n",
    "import torch\n",
    "import torch.nn as nn\n",
    "from datasets import load_dataset\n",
    "from seqeval.metrics import classification_report\n",
    "from sklearn.metrics import accuracy_score, f1_score\n",
    "from torch.nn.utils.rnn import pad_sequence\n",
    "from torch.optim import AdamW\n",
    "from torch.utils.data import DataLoader\n",
    "from tqdm import tqdm\n",
    "from transformers import AutoModel, AutoTokenizer"
   ]
  },
  {
   "cell_type": "code",
   "execution_count": 2,
   "metadata": {},
   "outputs": [],
   "source": [
    "# Load the CoNLL-2003 dataset\n",
    "dataset = load_dataset(\"conll2003\")\n",
    "label_list = dataset[\"train\"].features[\"ner_tags\"].feature.names\n",
    "num_labels = len(label_list)"
   ]
  },
  {
   "cell_type": "code",
   "execution_count": 3,
   "metadata": {},
   "outputs": [],
   "source": [
    "# Tokenizer\n",
    "tokenizer = AutoTokenizer.from_pretrained(\"roberta-base\", add_prefix_space=True)"
   ]
  },
  {
   "cell_type": "code",
   "execution_count": 4,
   "metadata": {},
   "outputs": [
    {
     "name": "stderr",
     "output_type": "stream",
     "text": [
      "Map: 100%|██████████| 3250/3250 [00:00<00:00, 11655.47 examples/s]\n"
     ]
    }
   ],
   "source": [
    "def tokenize_and_align_labels(batch):\n",
    "    tokenized_inputs = tokenizer(batch[\"tokens\"], truncation=True, is_split_into_words=True)\n",
    "    labels = []\n",
    "    for i, label in enumerate(batch[\"ner_tags\"]):\n",
    "        word_ids = tokenized_inputs.word_ids(batch_index=i)\n",
    "        aligned_labels = [-100 if word_id is None else label[word_id] for word_id in word_ids]\n",
    "        labels.append(aligned_labels)\n",
    "    tokenized_inputs[\"labels\"] = labels\n",
    "    return tokenized_inputs\n",
    "\n",
    "tokenized_datasets = dataset.map(tokenize_and_align_labels, batched=True)"
   ]
  },
  {
   "cell_type": "code",
   "execution_count": 5,
   "metadata": {},
   "outputs": [],
   "source": [
    "def collate_fn(batch):\n",
    "    input_ids = [torch.tensor(x[\"input_ids\"]) for x in batch]\n",
    "    attention_mask = [torch.tensor(x[\"attention_mask\"]) for x in batch]\n",
    "    labels = [torch.tensor(x[\"labels\"]) for x in batch]\n",
    "\n",
    "    input_ids_padded = pad_sequence(input_ids, batch_first=True, padding_value=tokenizer.pad_token_id)\n",
    "    attention_mask_padded = pad_sequence(attention_mask, batch_first=True, padding_value=0)\n",
    "    labels_padded = pad_sequence(labels, batch_first=True, padding_value=-100)\n",
    "\n",
    "    return {\n",
    "        \"input_ids\": input_ids_padded,\n",
    "        \"attention_mask\": attention_mask_padded,\n",
    "        \"labels\": labels_padded,\n",
    "    }\n",
    "\n",
    "train_loader = DataLoader(tokenized_datasets[\"train\"], batch_size=64, collate_fn=collate_fn)\n",
    "val_loader = DataLoader(tokenized_datasets[\"validation\"], batch_size=64, collate_fn=collate_fn)"
   ]
  },
  {
   "cell_type": "code",
   "execution_count": 6,
   "metadata": {},
   "outputs": [],
   "source": [
    "class RoBERTaForNER(nn.Module):\n",
    "    def __init__(self, pretrained_model_name, num_labels, dropout_rate=0.3):\n",
    "        super(RoBERTaForNER, self).__init__()\n",
    "        self.roberta = AutoModel.from_pretrained(pretrained_model_name, output_hidden_states=True)\n",
    "        self.num_hidden_layers = self.roberta.config.num_hidden_layers + 1\n",
    "        self.layer_weights = nn.Parameter(torch.ones(self.num_hidden_layers))\n",
    "        self.dropout = nn.Dropout(dropout_rate)\n",
    "        self.classifier = nn.Linear(self.roberta.config.hidden_size, num_labels)\n",
    "\n",
    "    def forward(self, input_ids, attention_mask, labels=None):\n",
    "        outputs = self.roberta(input_ids=input_ids, attention_mask=attention_mask)\n",
    "        hidden_states = torch.stack(outputs.hidden_states, dim=0)\n",
    "        weighted_hidden_states = torch.sum(self.layer_weights[:, None, None, None] * hidden_states, dim=0)\n",
    "        sequence_output = self.dropout(weighted_hidden_states)\n",
    "        logits = self.classifier(sequence_output)\n",
    "\n",
    "        loss = None\n",
    "        if labels is not None:\n",
    "            loss_fn = nn.CrossEntropyLoss()\n",
    "            active_loss = attention_mask.view(-1) == 1\n",
    "            active_logits = logits.view(-1, logits.size(-1))[active_loss]\n",
    "            active_labels = labels.view(-1)[active_loss]\n",
    "            loss = loss_fn(active_logits, active_labels)\n",
    "\n",
    "        return {\"loss\": loss, \"logits\": logits}"
   ]
  },
  {
   "cell_type": "code",
   "execution_count": 8,
   "metadata": {},
   "outputs": [
    {
     "name": "stderr",
     "output_type": "stream",
     "text": [
      "Some weights of RobertaModel were not initialized from the model checkpoint at roberta-base and are newly initialized: ['roberta.pooler.dense.bias', 'roberta.pooler.dense.weight']\n",
      "You should probably TRAIN this model on a down-stream task to be able to use it for predictions and inference.\n",
      "Epoch 1: 100%|██████████| 220/220 [12:09<00:00,  3.32s/it]"
     ]
    },
    {
     "name": "stdout",
     "output_type": "stream",
     "text": [
      "Epoch 1 Loss: 0.4667081406501397\n"
     ]
    },
    {
     "name": "stderr",
     "output_type": "stream",
     "text": [
      "\n"
     ]
    }
   ],
   "source": [
    "device = torch.device(\"cuda\" if torch.cuda.is_available() else \"cpu\")\n",
    "model = RoBERTaForNER(pretrained_model_name=\"roberta-base\", num_labels=num_labels, dropout_rate=0.3).to(device)\n",
    "optimizer = AdamW(model.parameters(), lr=5e-5)\n",
    "\n",
    "# Training Loop\n",
    "epochs = 1\n",
    "for epoch in range(epochs):\n",
    "    model.train()\n",
    "    total_loss = 0\n",
    "    for batch in tqdm(train_loader, desc=f\"Epoch {epoch + 1}\"):\n",
    "        optimizer.zero_grad()\n",
    "        input_ids = batch[\"input_ids\"].to(device)\n",
    "        attention_mask = batch[\"attention_mask\"].to(device)\n",
    "        labels = batch[\"labels\"].to(device)\n",
    "\n",
    "        outputs = model(input_ids=input_ids, attention_mask=attention_mask, labels=labels)\n",
    "        loss = outputs[\"loss\"]\n",
    "        loss.backward()\n",
    "        optimizer.step()\n",
    "        total_loss += loss.item()\n",
    "    print(f\"Epoch {epoch + 1} Loss: {total_loss / len(train_loader)}\")"
   ]
  },
  {
   "cell_type": "code",
   "execution_count": 9,
   "metadata": {},
   "outputs": [
    {
     "name": "stderr",
     "output_type": "stream",
     "text": [
      "Evaluating: 100%|██████████| 51/51 [00:33<00:00,  1.51it/s]\n"
     ]
    },
    {
     "name": "stdout",
     "output_type": "stream",
     "text": [
      "              precision    recall  f1-score   support\n",
      "\n",
      "         LOC       0.88      0.95      0.91      3323\n",
      "        MISC       0.71      0.74      0.72      1355\n",
      "         ORG       0.86      0.88      0.87      2672\n",
      "         PER       0.96      0.95      0.96      3238\n",
      "\n",
      "   micro avg       0.88      0.91      0.89     10588\n",
      "   macro avg       0.85      0.88      0.87     10588\n",
      "weighted avg       0.88      0.91      0.89     10588\n",
      "\n"
     ]
    }
   ],
   "source": [
    "model.eval()\n",
    "predictions, true_labels = [], []\n",
    "with torch.no_grad():\n",
    "    for batch in tqdm(val_loader, desc=\"Evaluating\"):\n",
    "        input_ids = batch[\"input_ids\"].to(device)\n",
    "        attention_mask = batch[\"attention_mask\"].to(device)\n",
    "        labels = batch[\"labels\"].to(device)\n",
    "\n",
    "        outputs = model(input_ids=input_ids, attention_mask=attention_mask)\n",
    "        logits = outputs[\"logits\"]\n",
    "        preds = torch.argmax(logits, dim=-1)\n",
    "\n",
    "        for pred, label in zip(preds.cpu().numpy(), labels.cpu().numpy()):\n",
    "            predictions.append([label_list[p] for p, l in zip(pred, label) if l != -100])\n",
    "            true_labels.append([label_list[l] for p, l in zip(pred, label) if l != -100])\n",
    "\n",
    "# Compute classification report\n",
    "print(classification_report(true_labels, predictions))"
   ]
  },
  {
   "cell_type": "code",
   "execution_count": 11,
   "metadata": {},
   "outputs": [
    {
     "name": "stderr",
     "output_type": "stream",
     "text": [
      "Some weights of RobertaModel were not initialized from the model checkpoint at roberta-base and are newly initialized: ['roberta.pooler.dense.bias', 'roberta.pooler.dense.weight']\n",
      "You should probably TRAIN this model on a down-stream task to be able to use it for predictions and inference.\n"
     ]
    },
    {
     "name": "stdout",
     "output_type": "stream",
     "text": [
      "Original Sentence:\n",
      "CRICKET - LEICESTERSHIRE TAKE OVER AT TOP AFTER INNINGS VICTORY .\n",
      "\n",
      "Tokenized Input:\n",
      "['<s>', 'ĠCR', 'ICK', 'ET', 'Ġ-', 'ĠLE', 'IC', 'EST', 'ERS', 'HI', 'RE', 'ĠTA', 'KE', 'ĠOVER', 'ĠAT', 'ĠTOP', 'ĠAFTER', 'ĠIN', 'NING', 'S', 'ĠV', 'ICT', 'ORY', 'Ġ.', '</s>']\n",
      "\n",
      "Predicted Labels:\n",
      "['O', 'O', 'I-ORG', 'O', 'O', 'O', 'I-MISC', 'I-MISC', 'O', 'I-ORG', 'O', 'O', 'O', 'O', 'O', 'O', 'B-PER', 'O', 'O', 'O', 'O', 'I-ORG', 'O', 'O', 'O']\n",
      "\n",
      "True Labels:\n",
      "['O', 'O', 'B-ORG', 'O', 'O', 'O', 'O', 'O', 'O', 'O', 'O']\n"
     ]
    }
   ],
   "source": [
    "def predict_ner_from_dataset(dataset, index, model, tokenizer, label_list):\n",
    "    \"\"\"\n",
    "    Predict NER tags for a sentence from the dataset using the trained model.\n",
    "\n",
    "    Args:\n",
    "        dataset (Dataset): The tokenized dataset to pick an example from.\n",
    "        index (int): Index of the sentence to use from the dataset.\n",
    "        model (torch.nn.Module): Trained NER model.\n",
    "        tokenizer (AutoTokenizer): Tokenizer used for tokenizing the sentence.\n",
    "        label_list (list): List of label names corresponding to NER tags.\n",
    "\n",
    "    Returns:\n",
    "        dict: Contains original sentence, tokenized input, and predicted labels.\n",
    "    \"\"\"\n",
    "    # Extract the sentence and true labels from the dataset\n",
    "    sentence_tokens = dataset[\"tokens\"][index]\n",
    "    true_labels = dataset[\"ner_tags\"][index]\n",
    "\n",
    "    # Tokenize the input sentence\n",
    "    tokenized_inputs = tokenizer(\n",
    "        sentence_tokens, truncation=True, return_tensors=\"pt\", is_split_into_words=True, add_special_tokens=True\n",
    "    )\n",
    "    input_ids = tokenized_inputs[\"input_ids\"].to(device)\n",
    "    attention_mask = tokenized_inputs[\"attention_mask\"].to(device)\n",
    "\n",
    "    # Model inference\n",
    "    model.eval()\n",
    "    with torch.no_grad():\n",
    "        outputs = model(input_ids=input_ids, attention_mask=attention_mask)\n",
    "        logits = outputs[\"logits\"]\n",
    "        predictions = torch.argmax(logits, dim=-1).squeeze().cpu().numpy()\n",
    "\n",
    "    # Decode tokens and predicted labels\n",
    "    tokens = tokenizer.convert_ids_to_tokens(input_ids.squeeze().cpu().numpy())\n",
    "    predicted_labels = [label_list[pred] for pred in predictions]\n",
    "    true_labels_decoded = [label_list[label] for label in true_labels]\n",
    "\n",
    "    return {\n",
    "        \"sentence\": \" \".join(sentence_tokens),\n",
    "        \"tokens\": tokens,\n",
    "        \"predicted_labels\": predicted_labels,\n",
    "        \"true_labels\": true_labels_decoded,\n",
    "    }\n",
    "\n",
    "\n",
    "# Initialize RoBERTa model and tokenizer\n",
    "tokenizer = AutoTokenizer.from_pretrained(\"roberta-base\", add_prefix_space=True)\n",
    "model = RoBERTaForNER(pretrained_model_name=\"roberta-base\", num_labels=num_labels, dropout_rate=0.3).to(device)\n",
    "\n",
    "# Example: Pick a sample sentence from the validation dataset\n",
    "example_index = 0  # Replace with any valid index\n",
    "result = predict_ner_from_dataset(dataset[\"validation\"], example_index, model, tokenizer, label_list)\n",
    "\n",
    "# Display the results\n",
    "print(\"Original Sentence:\")\n",
    "print(result[\"sentence\"])\n",
    "print(\"\\nTokenized Input:\")\n",
    "print(result[\"tokens\"])\n",
    "print(\"\\nPredicted Labels:\")\n",
    "print(result[\"predicted_labels\"])\n",
    "print(\"\\nTrue Labels:\")\n",
    "print(result[\"true_labels\"])"
   ]
  }
 ],
 "metadata": {
  "kernelspec": {
   "display_name": "nlp",
   "language": "python",
   "name": "python3"
  },
  "language_info": {
   "codemirror_mode": {
    "name": "ipython",
    "version": 3
   },
   "file_extension": ".py",
   "mimetype": "text/x-python",
   "name": "python",
   "nbconvert_exporter": "python",
   "pygments_lexer": "ipython3",
   "version": "3.11.5"
  }
 },
 "nbformat": 4,
 "nbformat_minor": 2
}
