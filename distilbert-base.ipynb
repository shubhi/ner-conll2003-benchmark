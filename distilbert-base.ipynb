{
 "cells": [
  {
   "cell_type": "code",
   "execution_count": 1,
   "metadata": {},
   "outputs": [
    {
     "name": "stderr",
     "output_type": "stream",
     "text": [
      "/Users/devambani/Projects/nlp/nlp/lib/python3.11/site-packages/tqdm/auto.py:21: TqdmWarning: IProgress not found. Please update jupyter and ipywidgets. See https://ipywidgets.readthedocs.io/en/stable/user_install.html\n",
      "  from .autonotebook import tqdm as notebook_tqdm\n"
     ]
    }
   ],
   "source": [
    "import matplotlib.pyplot as plt\n",
    "import torch\n",
    "import torch.nn as nn\n",
    "from datasets import load_dataset\n",
    "from seqeval.metrics import classification_report\n",
    "from sklearn.metrics import accuracy_score, f1_score\n",
    "from torch.nn.utils.rnn import pad_sequence\n",
    "from torch.optim import AdamW\n",
    "from torch.utils.data import DataLoader\n",
    "from tqdm import tqdm\n",
    "from transformers import AutoModel, AutoTokenizer"
   ]
  },
  {
   "cell_type": "code",
   "execution_count": 2,
   "metadata": {},
   "outputs": [],
   "source": [
    "# Load the CoNLL-2003 dataset\n",
    "dataset = load_dataset(\"conll2003\")\n",
    "label_list = dataset[\"train\"].features[\"ner_tags\"].feature.names\n",
    "num_labels = len(label_list)"
   ]
  },
  {
   "cell_type": "code",
   "execution_count": 3,
   "metadata": {},
   "outputs": [],
   "source": [
    "# Tokenizer\n",
    "tokenizer = AutoTokenizer.from_pretrained(\"distilbert-base-cased\")"
   ]
  },
  {
   "cell_type": "code",
   "execution_count": 4,
   "metadata": {},
   "outputs": [
    {
     "name": "stderr",
     "output_type": "stream",
     "text": [
      "Map: 100%|██████████| 3453/3453 [00:00<00:00, 23148.21 examples/s]\n"
     ]
    }
   ],
   "source": [
    "def tokenize_and_align_labels(batch):\n",
    "    tokenized_inputs = tokenizer(batch[\"tokens\"], truncation=True, is_split_into_words=True)\n",
    "    labels = []\n",
    "    for i, label in enumerate(batch[\"ner_tags\"]):\n",
    "        word_ids = tokenized_inputs.word_ids(batch_index=i)\n",
    "        aligned_labels = [-100 if word_id is None else label[word_id] for word_id in word_ids]\n",
    "        labels.append(aligned_labels)\n",
    "    tokenized_inputs[\"labels\"] = labels\n",
    "    return tokenized_inputs\n",
    "\n",
    "tokenized_datasets = dataset.map(tokenize_and_align_labels, batched=True)"
   ]
  },
  {
   "cell_type": "code",
   "execution_count": 5,
   "metadata": {},
   "outputs": [],
   "source": [
    "def collate_fn(batch):\n",
    "    input_ids = [torch.tensor(x[\"input_ids\"]) for x in batch]\n",
    "    attention_mask = [torch.tensor(x[\"attention_mask\"]) for x in batch]\n",
    "    labels = [torch.tensor(x[\"labels\"]) for x in batch]\n",
    "\n",
    "    input_ids_padded = pad_sequence(input_ids, batch_first=True, padding_value=tokenizer.pad_token_id)\n",
    "    attention_mask_padded = pad_sequence(attention_mask, batch_first=True, padding_value=0)\n",
    "    labels_padded = pad_sequence(labels, batch_first=True, padding_value=-100)\n",
    "\n",
    "    return {\n",
    "        \"input_ids\": input_ids_padded,\n",
    "        \"attention_mask\": attention_mask_padded,\n",
    "        \"labels\": labels_padded,\n",
    "    }\n",
    "\n",
    "train_loader = DataLoader(tokenized_datasets[\"train\"], batch_size=64, collate_fn=collate_fn)\n",
    "val_loader = DataLoader(tokenized_datasets[\"validation\"], batch_size=64, collate_fn=collate_fn)"
   ]
  },
  {
   "cell_type": "code",
   "execution_count": 6,
   "metadata": {},
   "outputs": [],
   "source": [
    "def collate_fn(batch):\n",
    "    input_ids = [torch.tensor(x[\"input_ids\"]) for x in batch]\n",
    "    attention_mask = [torch.tensor(x[\"attention_mask\"]) for x in batch]\n",
    "    labels = [torch.tensor(x[\"labels\"]) for x in batch]\n",
    "\n",
    "    input_ids_padded = pad_sequence(input_ids, batch_first=True, padding_value=tokenizer.pad_token_id)\n",
    "    attention_mask_padded = pad_sequence(attention_mask, batch_first=True, padding_value=0)\n",
    "    labels_padded = pad_sequence(labels, batch_first=True, padding_value=-100)\n",
    "\n",
    "    return {\n",
    "        \"input_ids\": input_ids_padded,\n",
    "        \"attention_mask\": attention_mask_padded,\n",
    "        \"labels\": labels_padded,\n",
    "    }\n",
    "\n",
    "train_loader = DataLoader(tokenized_datasets[\"train\"], batch_size=64, collate_fn=collate_fn)\n",
    "val_loader = DataLoader(tokenized_datasets[\"validation\"], batch_size=64, collate_fn=collate_fn)"
   ]
  },
  {
   "cell_type": "code",
   "execution_count": 7,
   "metadata": {},
   "outputs": [],
   "source": [
    "class DistilBERTForNER(nn.Module):\n",
    "    def __init__(self, pretrained_model_name, num_labels, dropout_rate=0.3):\n",
    "        super(DistilBERTForNER, self).__init__()\n",
    "        self.distilbert = AutoModel.from_pretrained(pretrained_model_name, output_hidden_states=True)\n",
    "        self.dropout = nn.Dropout(dropout_rate)\n",
    "        self.classifier = nn.Linear(self.distilbert.config.hidden_size, num_labels)\n",
    "\n",
    "    def forward(self, input_ids, attention_mask, labels=None):\n",
    "        outputs = self.distilbert(input_ids=input_ids, attention_mask=attention_mask)\n",
    "        hidden_states = outputs.last_hidden_state  # Only the last hidden state is used\n",
    "        sequence_output = self.dropout(hidden_states)\n",
    "        logits = self.classifier(sequence_output)\n",
    "\n",
    "        loss = None\n",
    "        if labels is not None:\n",
    "            loss_fn = nn.CrossEntropyLoss()\n",
    "            active_loss = attention_mask.view(-1) == 1\n",
    "            active_logits = logits.view(-1, logits.size(-1))[active_loss]\n",
    "            active_labels = labels.view(-1)[active_loss]\n",
    "            loss = loss_fn(active_logits, active_labels)\n",
    "\n",
    "        return {\"loss\": loss, \"logits\": logits}"
   ]
  },
  {
   "cell_type": "code",
   "execution_count": 8,
   "metadata": {},
   "outputs": [
    {
     "name": "stderr",
     "output_type": "stream",
     "text": [
      "Epoch 1 - Training: 100%|██████████| 220/220 [05:51<00:00,  1.60s/it]\n"
     ]
    },
    {
     "name": "stdout",
     "output_type": "stream",
     "text": [
      "Epoch 1 Training Loss: 0.3944\n"
     ]
    },
    {
     "name": "stderr",
     "output_type": "stream",
     "text": [
      "Epoch 1 - Validation: 100%|██████████| 51/51 [00:17<00:00,  2.98it/s]\n"
     ]
    },
    {
     "name": "stdout",
     "output_type": "stream",
     "text": [
      "Epoch 1 Validation Loss: 0.1430\n"
     ]
    },
    {
     "name": "stderr",
     "output_type": "stream",
     "text": [
      "Epoch 2 - Training: 100%|██████████| 220/220 [05:12<00:00,  1.42s/it]\n"
     ]
    },
    {
     "name": "stdout",
     "output_type": "stream",
     "text": [
      "Epoch 2 Training Loss: 0.1227\n"
     ]
    },
    {
     "name": "stderr",
     "output_type": "stream",
     "text": [
      "Epoch 2 - Validation: 100%|██████████| 51/51 [00:15<00:00,  3.20it/s]\n"
     ]
    },
    {
     "name": "stdout",
     "output_type": "stream",
     "text": [
      "Epoch 2 Validation Loss: 0.0845\n"
     ]
    },
    {
     "name": "stderr",
     "output_type": "stream",
     "text": [
      "Epoch 3 - Training: 100%|██████████| 220/220 [05:24<00:00,  1.47s/it]\n"
     ]
    },
    {
     "name": "stdout",
     "output_type": "stream",
     "text": [
      "Epoch 3 Training Loss: 0.0603\n"
     ]
    },
    {
     "name": "stderr",
     "output_type": "stream",
     "text": [
      "Epoch 3 - Validation: 100%|██████████| 51/51 [00:17<00:00,  2.91it/s]\n"
     ]
    },
    {
     "name": "stdout",
     "output_type": "stream",
     "text": [
      "Epoch 3 Validation Loss: 0.0796\n"
     ]
    },
    {
     "name": "stderr",
     "output_type": "stream",
     "text": [
      "Epoch 4 - Training: 100%|██████████| 220/220 [06:08<00:00,  1.67s/it]\n"
     ]
    },
    {
     "name": "stdout",
     "output_type": "stream",
     "text": [
      "Epoch 4 Training Loss: 0.0380\n"
     ]
    },
    {
     "name": "stderr",
     "output_type": "stream",
     "text": [
      "Epoch 4 - Validation: 100%|██████████| 51/51 [00:21<00:00,  2.36it/s]\n"
     ]
    },
    {
     "name": "stdout",
     "output_type": "stream",
     "text": [
      "Epoch 4 Validation Loss: 0.0783\n"
     ]
    },
    {
     "name": "stderr",
     "output_type": "stream",
     "text": [
      "Epoch 5 - Training: 100%|██████████| 220/220 [05:18<00:00,  1.45s/it]\n"
     ]
    },
    {
     "name": "stdout",
     "output_type": "stream",
     "text": [
      "Epoch 5 Training Loss: 0.0262\n"
     ]
    },
    {
     "name": "stderr",
     "output_type": "stream",
     "text": [
      "Epoch 5 - Validation: 100%|██████████| 51/51 [00:16<00:00,  3.06it/s]\n"
     ]
    },
    {
     "name": "stdout",
     "output_type": "stream",
     "text": [
      "Epoch 5 Validation Loss: 0.0918\n"
     ]
    },
    {
     "name": "stderr",
     "output_type": "stream",
     "text": [
      "Epoch 6 - Training: 100%|██████████| 220/220 [05:47<00:00,  1.58s/it]\n"
     ]
    },
    {
     "name": "stdout",
     "output_type": "stream",
     "text": [
      "Epoch 6 Training Loss: 0.0188\n"
     ]
    },
    {
     "name": "stderr",
     "output_type": "stream",
     "text": [
      "Epoch 6 - Validation: 100%|██████████| 51/51 [00:17<00:00,  2.84it/s]\n"
     ]
    },
    {
     "name": "stdout",
     "output_type": "stream",
     "text": [
      "Epoch 6 Validation Loss: 0.0862\n"
     ]
    },
    {
     "name": "stderr",
     "output_type": "stream",
     "text": [
      "Epoch 7 - Training: 100%|██████████| 220/220 [05:38<00:00,  1.54s/it]\n"
     ]
    },
    {
     "name": "stdout",
     "output_type": "stream",
     "text": [
      "Epoch 7 Training Loss: 0.0167\n"
     ]
    },
    {
     "name": "stderr",
     "output_type": "stream",
     "text": [
      "Epoch 7 - Validation: 100%|██████████| 51/51 [00:16<00:00,  3.09it/s]\n"
     ]
    },
    {
     "name": "stdout",
     "output_type": "stream",
     "text": [
      "Epoch 7 Validation Loss: 0.0925\n"
     ]
    },
    {
     "name": "stderr",
     "output_type": "stream",
     "text": [
      "Epoch 8 - Training: 100%|██████████| 220/220 [05:16<00:00,  1.44s/it]\n"
     ]
    },
    {
     "name": "stdout",
     "output_type": "stream",
     "text": [
      "Epoch 8 Training Loss: 0.0113\n"
     ]
    },
    {
     "name": "stderr",
     "output_type": "stream",
     "text": [
      "Epoch 8 - Validation: 100%|██████████| 51/51 [00:15<00:00,  3.24it/s]\n"
     ]
    },
    {
     "name": "stdout",
     "output_type": "stream",
     "text": [
      "Epoch 8 Validation Loss: 0.0875\n"
     ]
    },
    {
     "name": "stderr",
     "output_type": "stream",
     "text": [
      "Epoch 9 - Training: 100%|██████████| 220/220 [04:48<00:00,  1.31s/it]\n"
     ]
    },
    {
     "name": "stdout",
     "output_type": "stream",
     "text": [
      "Epoch 9 Training Loss: 0.0124\n"
     ]
    },
    {
     "name": "stderr",
     "output_type": "stream",
     "text": [
      "Epoch 9 - Validation: 100%|██████████| 51/51 [00:17<00:00,  2.89it/s]\n"
     ]
    },
    {
     "name": "stdout",
     "output_type": "stream",
     "text": [
      "Epoch 9 Validation Loss: 0.0843\n"
     ]
    },
    {
     "name": "stderr",
     "output_type": "stream",
     "text": [
      "Epoch 10 - Training: 100%|██████████| 220/220 [04:53<00:00,  1.33s/it]\n"
     ]
    },
    {
     "name": "stdout",
     "output_type": "stream",
     "text": [
      "Epoch 10 Training Loss: 0.0084\n"
     ]
    },
    {
     "name": "stderr",
     "output_type": "stream",
     "text": [
      "Epoch 10 - Validation: 100%|██████████| 51/51 [00:15<00:00,  3.38it/s]\n"
     ]
    },
    {
     "name": "stdout",
     "output_type": "stream",
     "text": [
      "Epoch 10 Validation Loss: 0.0902\n"
     ]
    },
    {
     "data": {
      "image/png": "[encoded data removed]",
      "text/plain": [
       "<Figure size 1000x600 with 1 Axes>"
      ]
     },
     "metadata": {},
     "output_type": "display_data"
    }
   ],
   "source": [
    "device = torch.device(\"cuda\" if torch.cuda.is_available() else \"cpu\")\n",
    "model = DistilBERTForNER(pretrained_model_name=\"distilbert-base-cased\", num_labels=num_labels, dropout_rate=0.3).to(device)\n",
    "optimizer = AdamW(model.parameters(), lr=5e-5)\n",
    "\n",
    "# Initialize lists to track losses\n",
    "train_losses = []\n",
    "val_losses = []\n",
    "\n",
    "# Training Loop\n",
    "epochs = 10\n",
    "for epoch in range(epochs):\n",
    "    # Training phase\n",
    "    model.train()\n",
    "    total_train_loss = 0\n",
    "    for batch in tqdm(train_loader, desc=f\"Epoch {epoch + 1} - Training\"):\n",
    "        optimizer.zero_grad()\n",
    "        input_ids = batch[\"input_ids\"].to(device)\n",
    "        attention_mask = batch[\"attention_mask\"].to(device)\n",
    "        labels = batch[\"labels\"].to(device)\n",
    "\n",
    "        outputs = model(input_ids=input_ids, attention_mask=attention_mask, labels=labels)\n",
    "        loss = outputs[\"loss\"]\n",
    "        loss.backward()\n",
    "        optimizer.step()\n",
    "        total_train_loss += loss.item()\n",
    "\n",
    "    # Compute average training loss for this epoch\n",
    "    avg_train_loss = total_train_loss / len(train_loader)\n",
    "    train_losses.append(avg_train_loss)\n",
    "    print(f\"Epoch {epoch + 1} Training Loss: {avg_train_loss:.4f}\")\n",
    "\n",
    "    # Validation phase\n",
    "    model.eval()\n",
    "    total_val_loss = 0\n",
    "    with torch.no_grad():\n",
    "        for batch in tqdm(val_loader, desc=f\"Epoch {epoch + 1} - Validation\"):\n",
    "            input_ids = batch[\"input_ids\"].to(device)\n",
    "            attention_mask = batch[\"attention_mask\"].to(device)\n",
    "            labels = batch[\"labels\"].to(device)\n",
    "\n",
    "            outputs = model(input_ids=input_ids, attention_mask=attention_mask, labels=labels)\n",
    "            loss = outputs[\"loss\"]\n",
    "            total_val_loss += loss.item()\n",
    "\n",
    "    # Compute average validation loss for this epoch\n",
    "    avg_val_loss = total_val_loss / len(val_loader)\n",
    "    val_losses.append(avg_val_loss)\n",
    "    print(f\"Epoch {epoch + 1} Validation Loss: {avg_val_loss:.4f}\")\n",
    "\n",
    "# Plot the loss curves after training\n",
    "def plot_loss_curves(train_losses, val_losses, save_path=None):\n",
    "    \"\"\"\n",
    "    Plot training and validation loss curves.\n",
    "\n",
    "    Args:\n",
    "        train_losses (list): List of training loss values for each epoch.\n",
    "        val_losses (list): List of validation loss values for each epoch.\n",
    "        save_path (str): If provided, save the plot to this path.\n",
    "    \"\"\"\n",
    "    epochs = range(1, len(train_losses) + 1)  # Epoch numbers\n",
    "\n",
    "    plt.figure(figsize=(10, 6))\n",
    "    plt.plot(epochs, train_losses, label=\"Training Loss\", linewidth=2)\n",
    "    plt.plot(epochs, val_losses, label=\"Validation Loss\", linewidth=2)\n",
    "    plt.xlabel(\"Epochs\")\n",
    "    plt.ylabel(\"Loss\")\n",
    "    plt.title(\"Training and Validation Loss Curves\")\n",
    "    plt.legend()\n",
    "    plt.grid()\n",
    "\n",
    "    if save_path:\n",
    "        plt.savefig(save_path)  # Save the plot to the specified path\n",
    "    plt.show()\n",
    "\n",
    "\n",
    "# Call the function to plot\n",
    "plot_loss_curves(train_losses, val_losses, save_path=\"training_validation_loss.png\")"
   ]
  },
  {
   "cell_type": "code",
   "execution_count": 12,
   "metadata": {},
   "outputs": [
    {
     "name": "stderr",
     "output_type": "stream",
     "text": [
      "Epoch 1: 100%|██████████| 220/220 [05:28<00:00,  1.49s/it]\n"
     ]
    },
    {
     "name": "stdout",
     "output_type": "stream",
     "text": [
      "Epoch 1 Loss: 0.38091546448624947\n"
     ]
    },
    {
     "name": "stderr",
     "output_type": "stream",
     "text": [
      "Epoch 2: 100%|██████████| 220/220 [05:01<00:00,  1.37s/it]"
     ]
    },
    {
     "name": "stdout",
     "output_type": "stream",
     "text": [
      "Epoch 2 Loss: 0.11948376615764573\n"
     ]
    },
    {
     "name": "stderr",
     "output_type": "stream",
     "text": [
      "\n"
     ]
    }
   ],
   "source": [
    "# device = torch.device(\"cuda\" if torch.cuda.is_available() else \"cpu\")\n",
    "# model = DistilBERTForNER(pretrained_model_name=\"distilbert-base-cased\", num_labels=num_labels, dropout_rate=0.3).to(device)\n",
    "# optimizer = AdamW(model.parameters(), lr=5e-5)\n",
    "\n",
    "# # Training Loop\n",
    "# epochs = 5\n",
    "# for epoch in range(epochs):\n",
    "#     model.train()\n",
    "#     total_loss = 0\n",
    "#     for batch in tqdm(train_loader, desc=f\"Epoch {epoch + 1}\"):\n",
    "#         optimizer.zero_grad()\n",
    "#         input_ids = batch[\"input_ids\"].to(device)\n",
    "#         attention_mask = batch[\"attention_mask\"].to(device)\n",
    "#         labels = batch[\"labels\"].to(device)\n",
    "\n",
    "#         outputs = model(input_ids=input_ids, attention_mask=attention_mask, labels=labels)\n",
    "#         loss = outputs[\"loss\"]\n",
    "#         loss.backward()\n",
    "#         optimizer.step()\n",
    "#         total_loss += loss.item()\n",
    "#     print(f\"Epoch {epoch + 1} Loss: {total_loss / len(train_loader)}\")"
   ]
  },
  {
   "cell_type": "code",
   "execution_count": 10,
   "metadata": {},
   "outputs": [
    {
     "name": "stderr",
     "output_type": "stream",
     "text": [
      "Evaluating on Test Data: 100%|██████████| 54/54 [00:21<00:00,  2.55it/s]\n"
     ]
    },
    {
     "name": "stdout",
     "output_type": "stream",
     "text": [
      "Test Data Evaluation Metrics:\n",
      "              precision    recall  f1-score   support\n",
      "\n",
      "         LOC     0.9208    0.9063    0.9135      3000\n",
      "        MISC     0.6860    0.7488    0.7160      1266\n",
      "         ORG     0.8573    0.9083    0.8821      3524\n",
      "         PER     0.8836    0.9190    0.9010      2989\n",
      "\n",
      "   micro avg     0.8602    0.8920    0.8758     10779\n",
      "   macro avg     0.8369    0.8706    0.8531     10779\n",
      "weighted avg     0.8621    0.8920    0.8765     10779\n",
      "\n"
     ]
    }
   ],
   "source": [
    "# Define the DataLoader for the test dataset\n",
    "test_loader = DataLoader(\n",
    "    tokenized_datasets[\"test\"], batch_size=64, collate_fn=collate_fn  # Adjust batch size if needed\n",
    ")\n",
    "\n",
    "# Evaluate on test data\n",
    "model.eval()\n",
    "predictions, true_labels = [], []\n",
    "\n",
    "with torch.no_grad():\n",
    "    for batch in tqdm(test_loader, desc=\"Evaluating on Test Data\"):\n",
    "        input_ids = batch[\"input_ids\"].to(device)\n",
    "        attention_mask = batch[\"attention_mask\"].to(device)\n",
    "        labels = batch[\"labels\"].to(device)\n",
    "\n",
    "        # Forward pass\n",
    "        outputs = model(input_ids=input_ids, attention_mask=attention_mask)\n",
    "        logits = outputs[\"logits\"]\n",
    "        preds = torch.argmax(logits, dim=-1)\n",
    "\n",
    "        for pred, label in zip(preds.cpu().numpy(), labels.cpu().numpy()):\n",
    "            # Exclude padding tokens\n",
    "            predictions.append([label_list[p] for p, l in zip(pred, label) if l != -100])\n",
    "            true_labels.append([label_list[l] for p, l in zip(pred, label) if l != -100])\n",
    "\n",
    "# Compute the classification report\n",
    "from seqeval.metrics import classification_report\n",
    "\n",
    "print(\"Test Data Evaluation Metrics:\")\n",
    "print(classification_report(true_labels, predictions, digits=4))"
   ]
  },
  {
   "cell_type": "code",
   "execution_count": 15,
   "metadata": {},
   "outputs": [
    {
     "name": "stderr",
     "output_type": "stream",
     "text": [
      "Evaluating: 100%|██████████| 51/51 [00:18<00:00,  2.74it/s]\n"
     ]
    },
    {
     "name": "stdout",
     "output_type": "stream",
     "text": [
      "              precision    recall  f1-score   support\n",
      "\n",
      "         LOC       0.96      0.90      0.93      3635\n",
      "        MISC       0.83      0.77      0.80      1480\n",
      "         ORG       0.83      0.89      0.86      2702\n",
      "         PER       0.95      0.92      0.94      3329\n",
      "\n",
      "   micro avg       0.90      0.89      0.90     11146\n",
      "   macro avg       0.89      0.87      0.88     11146\n",
      "weighted avg       0.91      0.89      0.90     11146\n",
      "\n"
     ]
    }
   ],
   "source": [
    "model.eval()\n",
    "predictions, true_labels = [], []\n",
    "with torch.no_grad():\n",
    "    for batch in tqdm(val_loader, desc=\"Evaluating\"):\n",
    "        input_ids = batch[\"input_ids\"].to(device)\n",
    "        attention_mask = batch[\"attention_mask\"].to(device)\n",
    "        labels = batch[\"labels\"].to(device)\n",
    "\n",
    "        outputs = model(input_ids=input_ids, attention_mask=attention_mask)\n",
    "        logits = outputs[\"logits\"]\n",
    "        preds = torch.argmax(logits, dim=-1)\n",
    "\n",
    "        for pred, label in zip(preds.cpu().numpy(), labels.cpu().numpy()):\n",
    "            predictions.append([label_list[p] for p, l in zip(pred, label) if l != -100])\n",
    "            true_labels.append([label_list[l] for p, l in zip(pred, label) if l != -100])\n",
    "\n",
    "# Compute classification report\n",
    "print(classification_report(true_labels, predictions))"
   ]
  },
  {
   "cell_type": "code",
   "execution_count": 18,
   "metadata": {},
   "outputs": [
    {
     "name": "stdout",
     "output_type": "stream",
     "text": [
      "Original Sentence:\n",
      "CRICKET - LEICESTERSHIRE TAKE OVER AT TOP AFTER INNINGS VICTORY .\n",
      "\n",
      "Tokenized Input:\n",
      "['[CLS]', 'CR', '##IC', '##KE', '##T', '-', 'L', '##EI', '##CE', '##ST', '##ER', '##S', '##H', '##IR', '##E', 'T', '##A', '##KE', 'O', '##VE', '##R', 'AT', 'TO', '##P', 'A', '##FT', '##ER', 'IN', '##NI', '##NG', '##S', 'VI', '##CT', '##OR', '##Y', '.', '[SEP]']\n",
      "\n",
      "Predicted Labels:\n",
      "['I-ORG', 'I-MISC', 'I-MISC', 'I-MISC', 'I-MISC', 'I-MISC', 'I-MISC', 'I-MISC', 'I-MISC', 'I-MISC', 'I-MISC', 'O', 'O', 'I-MISC', 'I-MISC', 'I-MISC', 'I-MISC', 'I-MISC', 'I-MISC', 'I-MISC', 'I-MISC', 'I-MISC', 'I-MISC', 'I-MISC', 'I-MISC', 'B-PER', 'I-MISC', 'I-MISC', 'I-MISC', 'O', 'I-MISC', 'I-MISC', 'I-MISC', 'I-MISC', 'I-MISC', 'I-MISC', 'O']\n",
      "\n",
      "True Labels:\n",
      "['O', 'O', 'B-ORG', 'O', 'O', 'O', 'O', 'O', 'O', 'O', 'O']\n"
     ]
    }
   ],
   "source": [
    "def predict_ner_from_dataset(dataset, index, model, tokenizer, label_list):\n",
    "    \"\"\"\n",
    "    Predict NER tags for a sentence from the dataset using the trained model.\n",
    "\n",
    "    Args:\n",
    "        dataset (Dataset): The tokenized dataset to pick an example from.\n",
    "        index (int): Index of the sentence to use from the dataset.\n",
    "        model (torch.nn.Module): Trained NER model.\n",
    "        tokenizer (AutoTokenizer): Tokenizer used for tokenizing the sentence.\n",
    "        label_list (list): List of label names corresponding to NER tags.\n",
    "\n",
    "    Returns:\n",
    "        dict: Contains original sentence, tokenized input, and predicted labels.\n",
    "    \"\"\"\n",
    "    # Extract the sentence and true labels from the dataset\n",
    "    sentence_tokens = dataset[\"tokens\"][index]\n",
    "    true_labels = dataset[\"ner_tags\"][index]\n",
    "\n",
    "    # Tokenize the input sentence\n",
    "    tokenized_inputs = tokenizer(sentence_tokens, truncation=True, return_tensors=\"pt\", is_split_into_words=True)\n",
    "    input_ids = tokenized_inputs[\"input_ids\"].to(device)\n",
    "    attention_mask = tokenized_inputs[\"attention_mask\"].to(device)\n",
    "\n",
    "    # Model inference\n",
    "    model.eval()\n",
    "    with torch.no_grad():\n",
    "        outputs = model(input_ids=input_ids, attention_mask=attention_mask)\n",
    "        logits = outputs[\"logits\"]\n",
    "        predictions = torch.argmax(logits, dim=-1).squeeze().cpu().numpy()\n",
    "\n",
    "    # Decode tokens and predicted labels\n",
    "    tokens = tokenizer.convert_ids_to_tokens(input_ids.squeeze().cpu().numpy())\n",
    "    predicted_labels = [label_list[pred] for pred in predictions]\n",
    "    true_labels_decoded = [label_list[label] for label in true_labels]\n",
    "\n",
    "    return {\n",
    "        \"sentence\": \" \".join(sentence_tokens),\n",
    "        \"tokens\": tokens,\n",
    "        \"predicted_labels\": predicted_labels,\n",
    "        \"true_labels\": true_labels_decoded,\n",
    "    }\n",
    "\n",
    "\n",
    "# Select an example from the validation dataset (use tokenized_datasets[\"validation\"])\n",
    "example_index = 0  # Replace with any valid index\n",
    "result = predict_ner_from_dataset(dataset[\"validation\"], example_index, model, tokenizer, label_list)\n",
    "\n",
    "# Display the results\n",
    "print(\"Original Sentence:\")\n",
    "print(result[\"sentence\"])\n",
    "print(\"\\nTokenized Input:\")\n",
    "print(result[\"tokens\"])\n",
    "print(\"\\nPredicted Labels:\")\n",
    "print(result[\"predicted_labels\"])\n",
    "print(\"\\nTrue Labels:\")\n",
    "print(result[\"true_labels\"])"
   ]
  }
 ],
 "metadata": {
  "kernelspec": {
   "display_name": "nlp",
   "language": "python",
   "name": "python3"
  },
  "language_info": {
   "codemirror_mode": {
    "name": "ipython",
    "version": 3
   },
   "file_extension": ".py",
   "mimetype": "text/x-python",
   "name": "python",
   "nbconvert_exporter": "python",
   "pygments_lexer": "ipython3",
   "version": "3.11.5"
  }
 },
 "nbformat": 4,
 "nbformat_minor": 2
}
