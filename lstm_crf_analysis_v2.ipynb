{
 "cells": [
  {
   "cell_type": "markdown",
   "id": "c0710f2e-82c2-40e8-a763-121679880de3",
   "metadata": {},
   "source": [
    "# LSTM CRF Results Analysis"
   ]
  },
  {
   "cell_type": "code",
   "execution_count": null,
   "id": "fd76f23d-6e5a-460c-9ff9-82b29d15b156",
   "metadata": {},
   "outputs": [],
   "source": [
    "import os\n",
    "\n",
    "import matplotlib.pyplot as plt\n",
    "import pandas as pd"
   ]
  },
  {
   "cell_type": "code",
   "execution_count": null,
   "id": "87a9e3e1-c57d-4b2b-8952-84574732b1f4",
   "metadata": {},
   "outputs": [],
   "source": [
    "folder_path = \"results\""
   ]
  },
  {
   "cell_type": "code",
   "execution_count": null,
   "id": "a5765b1e-4fb5-4c6d-ac5d-fa92c25726b8",
   "metadata": {},
   "outputs": [],
   "source": [
    "train_losses_files = [f for f in os.listdir(folder_path) if f.startswith(\"train_losses\") and f.endswith(\".csv\")]\n",
    "val_losses_files = [f for f in os.listdir(folder_path) if f.startswith(\"val_losses\") and f.endswith(\".csv\")]\n",
    "train_accuracies_files = [f for f in os.listdir(folder_path) if f.startswith(\"train_accuracies\") and f.endswith(\".csv\")]\n",
    "val_accuracies_files = [f for f in os.listdir(folder_path) if f.startswith(\"val_accuracies\") and f.endswith(\".csv\")]"
   ]
  },
  {
   "cell_type": "code",
   "execution_count": null,
   "id": "fa989c28-7f68-40fc-8a9c-131aa84b32f3",
   "metadata": {},
   "outputs": [],
   "source": [
    "def extract_hyperparams(filename):\n",
    "    parts = filename.split(\"_\")\n",
    "    lr = float(parts[3])\n",
    "    dropout = float(parts[5].replace(\".csv\", \"\"))\n",
    "    return lr, dropout"
   ]
  },
  {
   "cell_type": "code",
   "execution_count": null,
   "id": "dcdbbdf7-0e69-4c96-80f5-01ffa9fbd99a",
   "metadata": {},
   "outputs": [],
   "source": [
    "for train_loss_file in train_losses_files:\n",
    "    # Extract corresponding file names\n",
    "    lr, dropout = extract_hyperparams(train_loss_file)\n",
    "    val_loss_file = f\"val_losses_lr_{lr}_dropout_{dropout}.csv\"\n",
    "    train_acc_file = f\"train_accuracies_lr_{lr}_dropout_{dropout}.csv\"\n",
    "    val_acc_file = f\"val_accuracies_lr_{lr}_dropout_{dropout}.csv\"\n",
    "\n",
    "    # Ensure corresponding files exist\n",
    "    if (\n",
    "        val_loss_file in val_losses_files\n",
    "        and train_acc_file in train_accuracies_files\n",
    "        and val_acc_file in val_accuracies_files\n",
    "    ):\n",
    "        # Read the files\n",
    "        train_losses_df = pd.read_csv(os.path.join(folder_path, train_loss_file))\n",
    "        val_losses_df = pd.read_csv(os.path.join(folder_path, val_loss_file))\n",
    "        train_accuracies_df = pd.read_csv(os.path.join(folder_path, train_acc_file))\n",
    "        val_accuracies_df = pd.read_csv(os.path.join(folder_path, val_acc_file))\n",
    "        train_losses_df[\"epoch\"] = (train_losses_df.index + 1)\n",
    "        val_losses_df[\"epoch\"] = (val_losses_df.index + 1) * 25\n",
    "        train_accuracies_df[\"epoch\"] = (train_accuracies_df.index + 1) * 25\n",
    "        val_accuracies_df[\"epoch\"] = (val_accuracies_df.index + 1) * 25\n",
    "\n",
    "        # Create a figure with two subplots\n",
    "        fig, axes = plt.subplots(2, 1, figsize=(10, 12))\n",
    "\n",
    "        # Plot losses\n",
    "        axes[0].plot(train_losses_df[\"epoch\"], train_losses_df[\"train_loss\"], label=\"Training Loss\", color=\"blue\")\n",
    "        axes[0].plot(val_losses_df[\"epoch\"], val_losses_df[\"val_loss\"], label=\"Validation Loss\", color=\"orange\")\n",
    "        axes[0].set_title(f\"Losses for LR: {lr}, Dropout: {dropout}\")\n",
    "        axes[0].set_xlabel(\"Epochs\")\n",
    "        axes[0].set_ylabel(\"Loss\")\n",
    "        axes[0].legend()\n",
    "        axes[0].grid()\n",
    "\n",
    "        # Plot accuracies\n",
    "        axes[1].plot(\n",
    "            train_accuracies_df[\"epoch\"],\n",
    "            train_accuracies_df[\"train_accuracy\"],\n",
    "            label=\"Training Accuracy\",\n",
    "            color=\"green\",\n",
    "        )\n",
    "        axes[1].plot(\n",
    "            val_accuracies_df[\"epoch\"], val_accuracies_df[\"val_accuracy\"], label=\"Validation Accuracy\", color=\"red\"\n",
    "        )\n",
    "        axes[1].set_title(f\"Accuracies for LR: {lr}, Dropout: {dropout}\")\n",
    "        axes[1].set_xlabel(\"Epochs\")\n",
    "        axes[1].set_ylabel(\"Accuracy\")\n",
    "        axes[1].legend()\n",
    "        axes[1].grid()\n",
    "\n",
    "        # Adjust layout and save the figure\n",
    "        plt.tight_layout()\n",
    "        plot_filename = os.path.join(folder_path, f\"plot_lr_{lr}_dropout_{dropout}.png\")\n",
    "        plt.savefig(plot_filename)\n",
    "        plt.close()\n",
    "\n",
    "        print(f\"Saved plot for LR: {lr}, Dropout: {dropout} at {plot_filename}\")"
   ]
  },
  {
   "cell_type": "code",
   "execution_count": null,
   "id": "305fbf29-fb29-499d-ac24-731523622661",
   "metadata": {},
   "outputs": [],
   "source": []
  }
 ],
 "metadata": {
  "kernelspec": {
   "display_name": "Python 3 (ipykernel)",
   "language": "python",
   "name": "python3"
  },
  "language_info": {
   "codemirror_mode": {
    "name": "ipython",
    "version": 3
   },
   "file_extension": ".py",
   "mimetype": "text/x-python",
   "name": "python",
   "nbconvert_exporter": "python",
   "pygments_lexer": "ipython3",
   "version": "3.12.7"
  }
 },
 "nbformat": 4,
 "nbformat_minor": 5
}
