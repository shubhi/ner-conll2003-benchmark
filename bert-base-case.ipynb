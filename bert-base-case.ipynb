{
 "cells": [
  {
   "cell_type": "markdown",
   "id": "acae0990-87ac-4d98-824f-1e0484016b89",
   "metadata": {
    "tags": []
   },
   "source": [
    "# Dependencies"
   ]
  },
  {
   "cell_type": "markdown",
   "id": "5db8f788-dd36-48d2-9e7f-0fa531c87e3f",
   "metadata": {},
   "source": [
    "## Modules"
   ]
  },
  {
   "cell_type": "code",
   "execution_count": 1,
   "id": "dc450c3c-e127-487a-9e68-2ecdd42af577",
   "metadata": {
    "collapsed": true,
    "jupyter": {
     "outputs_hidden": true
    },
    "tags": []
   },
   "outputs": [
    {
     "name": "stdout",
     "output_type": "stream",
     "text": [
      "Requirement already satisfied: torch in /home/ec2-user/anaconda3/envs/pytorch_p310/lib/python3.10/site-packages (2.2.2)\n",
      "Collecting transformers\n",
      "  Downloading transformers-4.47.0-py3-none-any.whl.metadata (43 kB)\n",
      "Collecting datasets\n",
      "  Downloading datasets-3.2.0-py3-none-any.whl.metadata (20 kB)\n",
      "Requirement already satisfied: filelock in /home/ec2-user/anaconda3/envs/pytorch_p310/lib/python3.10/site-packages (from torch) (3.16.1)\n",
      "Requirement already satisfied: typing-extensions>=4.8.0 in /home/ec2-user/anaconda3/envs/pytorch_p310/lib/python3.10/site-packages (from torch) (4.12.2)\n",
      "Requirement already satisfied: sympy in /home/ec2-user/anaconda3/envs/pytorch_p310/lib/python3.10/site-packages (from torch) (1.13.3)\n",
      "Requirement already satisfied: networkx in /home/ec2-user/anaconda3/envs/pytorch_p310/lib/python3.10/site-packages (from torch) (3.4.2)\n",
      "Requirement already satisfied: jinja2 in /home/ec2-user/anaconda3/envs/pytorch_p310/lib/python3.10/site-packages (from torch) (3.1.4)\n",
      "Requirement already satisfied: fsspec in /home/ec2-user/anaconda3/envs/pytorch_p310/lib/python3.10/site-packages (from torch) (2024.10.0)\n",
      "Collecting huggingface-hub<1.0,>=0.24.0 (from transformers)\n",
      "  Downloading huggingface_hub-0.26.5-py3-none-any.whl.metadata (13 kB)\n",
      "Requirement already satisfied: numpy>=1.17 in /home/ec2-user/anaconda3/envs/pytorch_p310/lib/python3.10/site-packages (from transformers) (1.26.4)\n",
      "Requirement already satisfied: packaging>=20.0 in /home/ec2-user/anaconda3/envs/pytorch_p310/lib/python3.10/site-packages (from transformers) (21.3)\n",
      "Requirement already satisfied: pyyaml>=5.1 in /home/ec2-user/anaconda3/envs/pytorch_p310/lib/python3.10/site-packages (from transformers) (6.0.2)\n",
      "Collecting regex!=2019.12.17 (from transformers)\n",
      "  Downloading regex-2024.11.6-cp310-cp310-manylinux_2_17_x86_64.manylinux2014_x86_64.whl.metadata (40 kB)\n",
      "Requirement already satisfied: requests in /home/ec2-user/anaconda3/envs/pytorch_p310/lib/python3.10/site-packages (from transformers) (2.32.3)\n",
      "Collecting tokenizers<0.22,>=0.21 (from transformers)\n",
      "  Downloading tokenizers-0.21.0-cp39-abi3-manylinux_2_17_x86_64.manylinux2014_x86_64.whl.metadata (6.7 kB)\n",
      "Collecting safetensors>=0.4.1 (from transformers)\n",
      "  Downloading safetensors-0.4.5-cp310-cp310-manylinux_2_17_x86_64.manylinux2014_x86_64.whl.metadata (3.8 kB)\n",
      "Requirement already satisfied: tqdm>=4.27 in /home/ec2-user/anaconda3/envs/pytorch_p310/lib/python3.10/site-packages (from transformers) (4.66.5)\n",
      "Requirement already satisfied: pyarrow>=15.0.0 in /home/ec2-user/anaconda3/envs/pytorch_p310/lib/python3.10/site-packages (from datasets) (17.0.0)\n",
      "Collecting dill<0.3.9,>=0.3.0 (from datasets)\n",
      "  Downloading dill-0.3.8-py3-none-any.whl.metadata (10 kB)\n",
      "Requirement already satisfied: pandas in /home/ec2-user/anaconda3/envs/pytorch_p310/lib/python3.10/site-packages (from datasets) (1.5.3)\n",
      "Collecting xxhash (from datasets)\n",
      "  Downloading xxhash-3.5.0-cp310-cp310-manylinux_2_17_x86_64.manylinux2014_x86_64.whl.metadata (12 kB)\n",
      "Collecting multiprocess<0.70.17 (from datasets)\n",
      "  Downloading multiprocess-0.70.16-py310-none-any.whl.metadata (7.2 kB)\n",
      "Collecting fsspec (from torch)\n",
      "  Downloading fsspec-2024.9.0-py3-none-any.whl.metadata (11 kB)\n",
      "Collecting aiohttp (from datasets)\n",
      "  Downloading aiohttp-3.11.10-cp310-cp310-manylinux_2_17_x86_64.manylinux2014_x86_64.whl.metadata (7.7 kB)\n",
      "Collecting aiohappyeyeballs>=2.3.0 (from aiohttp->datasets)\n",
      "  Downloading aiohappyeyeballs-2.4.4-py3-none-any.whl.metadata (6.1 kB)\n",
      "Collecting aiosignal>=1.1.2 (from aiohttp->datasets)\n",
      "  Downloading aiosignal-1.3.1-py3-none-any.whl.metadata (4.0 kB)\n",
      "Collecting async-timeout<6.0,>=4.0 (from aiohttp->datasets)\n",
      "  Downloading async_timeout-5.0.1-py3-none-any.whl.metadata (5.1 kB)\n",
      "Requirement already satisfied: attrs>=17.3.0 in /home/ec2-user/anaconda3/envs/pytorch_p310/lib/python3.10/site-packages (from aiohttp->datasets) (23.2.0)\n",
      "Collecting frozenlist>=1.1.1 (from aiohttp->datasets)\n",
      "  Downloading frozenlist-1.5.0-cp310-cp310-manylinux_2_5_x86_64.manylinux1_x86_64.manylinux_2_17_x86_64.manylinux2014_x86_64.whl.metadata (13 kB)\n",
      "Collecting multidict<7.0,>=4.5 (from aiohttp->datasets)\n",
      "  Downloading multidict-6.1.0-cp310-cp310-manylinux_2_17_x86_64.manylinux2014_x86_64.whl.metadata (5.0 kB)\n",
      "Collecting propcache>=0.2.0 (from aiohttp->datasets)\n",
      "  Downloading propcache-0.2.1-cp310-cp310-manylinux_2_17_x86_64.manylinux2014_x86_64.whl.metadata (9.2 kB)\n",
      "Collecting yarl<2.0,>=1.17.0 (from aiohttp->datasets)\n",
      "  Downloading yarl-1.18.3-cp310-cp310-manylinux_2_17_x86_64.manylinux2014_x86_64.whl.metadata (69 kB)\n",
      "Requirement already satisfied: pyparsing!=3.0.5,>=2.0.2 in /home/ec2-user/anaconda3/envs/pytorch_p310/lib/python3.10/site-packages (from packaging>=20.0->transformers) (3.2.0)\n",
      "Requirement already satisfied: charset-normalizer<4,>=2 in /home/ec2-user/anaconda3/envs/pytorch_p310/lib/python3.10/site-packages (from requests->transformers) (3.4.0)\n",
      "Requirement already satisfied: idna<4,>=2.5 in /home/ec2-user/anaconda3/envs/pytorch_p310/lib/python3.10/site-packages (from requests->transformers) (3.10)\n",
      "Requirement already satisfied: urllib3<3,>=1.21.1 in /home/ec2-user/anaconda3/envs/pytorch_p310/lib/python3.10/site-packages (from requests->transformers) (2.2.3)\n",
      "Requirement already satisfied: certifi>=2017.4.17 in /home/ec2-user/anaconda3/envs/pytorch_p310/lib/python3.10/site-packages (from requests->transformers) (2024.8.30)\n",
      "Requirement already satisfied: MarkupSafe>=2.0 in /home/ec2-user/anaconda3/envs/pytorch_p310/lib/python3.10/site-packages (from jinja2->torch) (3.0.2)\n",
      "Requirement already satisfied: python-dateutil>=2.8.1 in /home/ec2-user/anaconda3/envs/pytorch_p310/lib/python3.10/site-packages (from pandas->datasets) (2.9.0)\n",
      "Requirement already satisfied: pytz>=2020.1 in /home/ec2-user/anaconda3/envs/pytorch_p310/lib/python3.10/site-packages (from pandas->datasets) (2024.1)\n",
      "Requirement already satisfied: mpmath<1.4,>=1.1.0 in /home/ec2-user/anaconda3/envs/pytorch_p310/lib/python3.10/site-packages (from sympy->torch) (1.3.0)\n",
      "Requirement already satisfied: six>=1.5 in /home/ec2-user/anaconda3/envs/pytorch_p310/lib/python3.10/site-packages (from python-dateutil>=2.8.1->pandas->datasets) (1.16.0)\n",
      "Downloading transformers-4.47.0-py3-none-any.whl (10.1 MB)\n",
      "\u001b[2K   \u001b[90m━━━━━━━━━━━━━━━━━━━━━━━━━━━━━━━━━━━━━━━━\u001b[0m \u001b[32m10.1/10.1 MB\u001b[0m \u001b[31m479.0 MB/s\u001b[0m eta \u001b[36m0:00:00\u001b[0m\n",
      "\u001b[?25hDownloading datasets-3.2.0-py3-none-any.whl (480 kB)\n",
      "Downloading dill-0.3.8-py3-none-any.whl (116 kB)\n",
      "Downloading fsspec-2024.9.0-py3-none-any.whl (179 kB)\n",
      "Downloading aiohttp-3.11.10-cp310-cp310-manylinux_2_17_x86_64.manylinux2014_x86_64.whl (1.6 MB)\n",
      "\u001b[2K   \u001b[90m━━━━━━━━━━━━━━━━━━━━━━━━━━━━━━━━━━━━━━━━\u001b[0m \u001b[32m1.6/1.6 MB\u001b[0m \u001b[31m220.6 MB/s\u001b[0m eta \u001b[36m0:00:00\u001b[0m\n",
      "\u001b[?25hDownloading huggingface_hub-0.26.5-py3-none-any.whl (447 kB)\n",
      "Downloading multiprocess-0.70.16-py310-none-any.whl (134 kB)\n",
      "Downloading regex-2024.11.6-cp310-cp310-manylinux_2_17_x86_64.manylinux2014_x86_64.whl (781 kB)\n",
      "\u001b[2K   \u001b[90m━━━━━━━━━━━━━━━━━━━━━━━━━━━━━━━━━━━━━━━\u001b[0m \u001b[32m781.7/781.7 kB\u001b[0m \u001b[31m604.1 MB/s\u001b[0m eta \u001b[36m0:00:00\u001b[0m\n",
      "\u001b[?25hDownloading safetensors-0.4.5-cp310-cp310-manylinux_2_17_x86_64.manylinux2014_x86_64.whl (435 kB)\n",
      "Downloading tokenizers-0.21.0-cp39-abi3-manylinux_2_17_x86_64.manylinux2014_x86_64.whl (3.0 MB)\n",
      "\u001b[2K   \u001b[90m━━━━━━━━━━━━━━━━━━━━━━━━━━━━━━━━━━━━━━━━\u001b[0m \u001b[32m3.0/3.0 MB\u001b[0m \u001b[31m554.9 MB/s\u001b[0m eta \u001b[36m0:00:00\u001b[0m\n",
      "\u001b[?25hDownloading xxhash-3.5.0-cp310-cp310-manylinux_2_17_x86_64.manylinux2014_x86_64.whl (194 kB)\n",
      "Downloading aiohappyeyeballs-2.4.4-py3-none-any.whl (14 kB)\n",
      "Downloading aiosignal-1.3.1-py3-none-any.whl (7.6 kB)\n",
      "Downloading async_timeout-5.0.1-py3-none-any.whl (6.2 kB)\n",
      "Downloading frozenlist-1.5.0-cp310-cp310-manylinux_2_5_x86_64.manylinux1_x86_64.manylinux_2_17_x86_64.manylinux2014_x86_64.whl (241 kB)\n",
      "Downloading multidict-6.1.0-cp310-cp310-manylinux_2_17_x86_64.manylinux2014_x86_64.whl (124 kB)\n",
      "Downloading propcache-0.2.1-cp310-cp310-manylinux_2_17_x86_64.manylinux2014_x86_64.whl (205 kB)\n",
      "Downloading yarl-1.18.3-cp310-cp310-manylinux_2_17_x86_64.manylinux2014_x86_64.whl (319 kB)\n",
      "Installing collected packages: xxhash, safetensors, regex, propcache, multidict, fsspec, frozenlist, dill, async-timeout, aiohappyeyeballs, yarl, multiprocess, huggingface-hub, aiosignal, tokenizers, aiohttp, transformers, datasets\n",
      "  Attempting uninstall: fsspec\n",
      "    Found existing installation: fsspec 2024.10.0\n",
      "    Uninstalling fsspec-2024.10.0:\n",
      "      Successfully uninstalled fsspec-2024.10.0\n",
      "  Attempting uninstall: dill\n",
      "    Found existing installation: dill 0.3.9\n",
      "    Uninstalling dill-0.3.9:\n",
      "      Successfully uninstalled dill-0.3.9\n",
      "  Attempting uninstall: multiprocess\n",
      "    Found existing installation: multiprocess 0.70.17\n",
      "    Uninstalling multiprocess-0.70.17:\n",
      "      Successfully uninstalled multiprocess-0.70.17\n",
      "\u001b[31mERROR: pip's dependency resolver does not currently take into account all the packages that are installed. This behaviour is the source of the following dependency conflicts.\n",
      "pathos 0.3.3 requires dill>=0.3.9, but you have dill 0.3.8 which is incompatible.\n",
      "pathos 0.3.3 requires multiprocess>=0.70.17, but you have multiprocess 0.70.16 which is incompatible.\u001b[0m\u001b[31m\n",
      "\u001b[0mSuccessfully installed aiohappyeyeballs-2.4.4 aiohttp-3.11.10 aiosignal-1.3.1 async-timeout-5.0.1 datasets-3.2.0 dill-0.3.8 frozenlist-1.5.0 fsspec-2024.9.0 huggingface-hub-0.26.5 multidict-6.1.0 multiprocess-0.70.16 propcache-0.2.1 regex-2024.11.6 safetensors-0.4.5 tokenizers-0.21.0 transformers-4.47.0 xxhash-3.5.0 yarl-1.18.3\n"
     ]
    }
   ],
   "source": [
    "!pip install --no-cache-dir torch transformers datasets"
   ]
  },
  {
   "cell_type": "code",
   "execution_count": 2,
   "id": "27ed3a5a-1285-498f-863c-2a6762256dda",
   "metadata": {
    "collapsed": true,
    "jupyter": {
     "outputs_hidden": true
    },
    "tags": []
   },
   "outputs": [
    {
     "name": "stdout",
     "output_type": "stream",
     "text": [
      "Collecting seqeval==1.2.2\n",
      "  Downloading seqeval-1.2.2.tar.gz (43 kB)\n",
      "  Installing build dependencies ... \u001b[?25ldone\n",
      "\u001b[?25h  Getting requirements to build wheel ... \u001b[?25ldone\n",
      "\u001b[?25h  Installing backend dependencies ... \u001b[?25ldone\n",
      "\u001b[?25h  Preparing metadata (pyproject.toml) ... \u001b[?25ldone\n",
      "\u001b[?25hRequirement already satisfied: numpy>=1.14.0 in /home/ec2-user/anaconda3/envs/pytorch_p310/lib/python3.10/site-packages (from seqeval==1.2.2) (1.26.4)\n",
      "Requirement already satisfied: scikit-learn>=0.21.3 in /home/ec2-user/anaconda3/envs/pytorch_p310/lib/python3.10/site-packages (from seqeval==1.2.2) (1.5.2)\n",
      "Requirement already satisfied: scipy>=1.6.0 in /home/ec2-user/anaconda3/envs/pytorch_p310/lib/python3.10/site-packages (from scikit-learn>=0.21.3->seqeval==1.2.2) (1.14.1)\n",
      "Requirement already satisfied: joblib>=1.2.0 in /home/ec2-user/anaconda3/envs/pytorch_p310/lib/python3.10/site-packages (from scikit-learn>=0.21.3->seqeval==1.2.2) (1.4.2)\n",
      "Requirement already satisfied: threadpoolctl>=3.1.0 in /home/ec2-user/anaconda3/envs/pytorch_p310/lib/python3.10/site-packages (from scikit-learn>=0.21.3->seqeval==1.2.2) (3.5.0)\n",
      "Building wheels for collected packages: seqeval\n",
      "  Building wheel for seqeval (pyproject.toml) ... \u001b[?25ldone\n",
      "\u001b[?25h  Created wheel for seqeval: filename=seqeval-1.2.2-py3-none-any.whl size=16161 sha256=af34fd47a2bff0ffe958d42f0e316643891ceee92bd3559682e671974b32561c\n",
      "  Stored in directory: /tmp/pip-ephem-wheel-cache-ih2hklqw/wheels/1a/67/4a/ad4082dd7dfc30f2abfe4d80a2ed5926a506eb8a972b4767fa\n",
      "Successfully built seqeval\n",
      "Installing collected packages: seqeval\n",
      "Successfully installed seqeval-1.2.2\n"
     ]
    }
   ],
   "source": [
    "!pip install --no-cache-dir seqeval==1.2.2 --use-pep517"
   ]
  },
  {
   "cell_type": "code",
   "execution_count": 3,
   "id": "1f20cb8c-decf-4195-bca1-764551c3858e",
   "metadata": {
    "collapsed": true,
    "jupyter": {
     "outputs_hidden": true
    },
    "tags": []
   },
   "outputs": [
    {
     "name": "stdout",
     "output_type": "stream",
     "text": [
      "Collecting optuna\n",
      "  Downloading optuna-4.1.0-py3-none-any.whl.metadata (16 kB)\n",
      "Requirement already satisfied: alembic>=1.5.0 in /home/ec2-user/anaconda3/envs/pytorch_p310/lib/python3.10/site-packages (from optuna) (1.13.3)\n",
      "Collecting colorlog (from optuna)\n",
      "  Downloading colorlog-6.9.0-py3-none-any.whl.metadata (10 kB)\n",
      "Requirement already satisfied: numpy in /home/ec2-user/anaconda3/envs/pytorch_p310/lib/python3.10/site-packages (from optuna) (1.26.4)\n",
      "Requirement already satisfied: packaging>=20.0 in /home/ec2-user/anaconda3/envs/pytorch_p310/lib/python3.10/site-packages (from optuna) (21.3)\n",
      "Requirement already satisfied: sqlalchemy>=1.4.2 in /home/ec2-user/anaconda3/envs/pytorch_p310/lib/python3.10/site-packages (from optuna) (2.0.36)\n",
      "Requirement already satisfied: tqdm in /home/ec2-user/anaconda3/envs/pytorch_p310/lib/python3.10/site-packages (from optuna) (4.66.5)\n",
      "Requirement already satisfied: PyYAML in /home/ec2-user/anaconda3/envs/pytorch_p310/lib/python3.10/site-packages (from optuna) (6.0.2)\n",
      "Requirement already satisfied: Mako in /home/ec2-user/anaconda3/envs/pytorch_p310/lib/python3.10/site-packages (from alembic>=1.5.0->optuna) (1.3.6)\n",
      "Requirement already satisfied: typing-extensions>=4 in /home/ec2-user/anaconda3/envs/pytorch_p310/lib/python3.10/site-packages (from alembic>=1.5.0->optuna) (4.12.2)\n",
      "Requirement already satisfied: pyparsing!=3.0.5,>=2.0.2 in /home/ec2-user/anaconda3/envs/pytorch_p310/lib/python3.10/site-packages (from packaging>=20.0->optuna) (3.2.0)\n",
      "Requirement already satisfied: greenlet!=0.4.17 in /home/ec2-user/anaconda3/envs/pytorch_p310/lib/python3.10/site-packages (from sqlalchemy>=1.4.2->optuna) (3.1.1)\n",
      "Requirement already satisfied: MarkupSafe>=0.9.2 in /home/ec2-user/anaconda3/envs/pytorch_p310/lib/python3.10/site-packages (from Mako->alembic>=1.5.0->optuna) (3.0.2)\n",
      "Downloading optuna-4.1.0-py3-none-any.whl (364 kB)\n",
      "Downloading colorlog-6.9.0-py3-none-any.whl (11 kB)\n",
      "Installing collected packages: colorlog, optuna\n",
      "Successfully installed colorlog-6.9.0 optuna-4.1.0\n"
     ]
    }
   ],
   "source": [
    "!pip install --no-cache-dir optuna"
   ]
  },
  {
   "cell_type": "code",
   "execution_count": 23,
   "id": "84759e32-b6db-41f2-a67a-b4973495dda5",
   "metadata": {
    "collapsed": true,
    "jupyter": {
     "outputs_hidden": true
    },
    "tags": []
   },
   "outputs": [
    {
     "name": "stderr",
     "output_type": "stream",
     "text": [
      "huggingface/tokenizers: The current process just got forked, after parallelism has already been used. Disabling parallelism to avoid deadlocks...\n",
      "To disable this warning, you can either:\n",
      "\t- Avoid using `tokenizers` before the fork if possible\n",
      "\t- Explicitly set the environment variable TOKENIZERS_PARALLELISM=(true | false)\n"
     ]
    },
    {
     "name": "stdout",
     "output_type": "stream",
     "text": [
      "Collecting torchviz\n",
      "  Downloading torchviz-0.0.3-py3-none-any.whl.metadata (2.1 kB)\n",
      "Requirement already satisfied: torch in /home/ec2-user/anaconda3/envs/pytorch_p310/lib/python3.10/site-packages (from torchviz) (2.2.2)\n",
      "Collecting graphviz (from torchviz)\n",
      "  Downloading graphviz-0.20.3-py3-none-any.whl.metadata (12 kB)\n",
      "Requirement already satisfied: filelock in /home/ec2-user/anaconda3/envs/pytorch_p310/lib/python3.10/site-packages (from torch->torchviz) (3.16.1)\n",
      "Requirement already satisfied: typing-extensions>=4.8.0 in /home/ec2-user/anaconda3/envs/pytorch_p310/lib/python3.10/site-packages (from torch->torchviz) (4.12.2)\n",
      "Requirement already satisfied: sympy in /home/ec2-user/anaconda3/envs/pytorch_p310/lib/python3.10/site-packages (from torch->torchviz) (1.13.3)\n",
      "Requirement already satisfied: networkx in /home/ec2-user/anaconda3/envs/pytorch_p310/lib/python3.10/site-packages (from torch->torchviz) (3.4.2)\n",
      "Requirement already satisfied: jinja2 in /home/ec2-user/anaconda3/envs/pytorch_p310/lib/python3.10/site-packages (from torch->torchviz) (3.1.4)\n",
      "Requirement already satisfied: fsspec in /home/ec2-user/anaconda3/envs/pytorch_p310/lib/python3.10/site-packages (from torch->torchviz) (2024.9.0)\n",
      "Requirement already satisfied: MarkupSafe>=2.0 in /home/ec2-user/anaconda3/envs/pytorch_p310/lib/python3.10/site-packages (from jinja2->torch->torchviz) (3.0.2)\n",
      "Requirement already satisfied: mpmath<1.4,>=1.1.0 in /home/ec2-user/anaconda3/envs/pytorch_p310/lib/python3.10/site-packages (from sympy->torch->torchviz) (1.3.0)\n",
      "Downloading torchviz-0.0.3-py3-none-any.whl (5.7 kB)\n",
      "Downloading graphviz-0.20.3-py3-none-any.whl (47 kB)\n",
      "Installing collected packages: graphviz, torchviz\n",
      "Successfully installed graphviz-0.20.3 torchviz-0.0.3\n"
     ]
    }
   ],
   "source": [
    "!pip install --no-cache-dir torchviz\n"
   ]
  },
  {
   "cell_type": "markdown",
   "id": "02946a1b-93e1-4ef3-9d9b-439c4b8a0805",
   "metadata": {},
   "source": [
    "## Imports"
   ]
  },
  {
   "cell_type": "code",
   "execution_count": 15,
   "id": "b087816c-b10a-4b2b-b43a-e346e95061d1",
   "metadata": {
    "tags": []
   },
   "outputs": [],
   "source": [
    "import torch\n",
    "import torch.nn as nn\n",
    "from torch.utils.data import DataLoader\n",
    "from torch.nn.utils.rnn import pad_sequence\n",
    "from torch.optim import AdamW\n",
    "from transformers import AutoModel, AutoTokenizer, get_scheduler\n",
    "from datasets import load_dataset\n",
    "from tqdm import tqdm\n",
    "from seqeval.metrics import classification_report\n",
    "import optuna\n",
    "import matplotlib.pyplot as plt\n",
    "from sklearn.metrics import f1_score, accuracy_score"
   ]
  },
  {
   "cell_type": "markdown",
   "id": "6524320f-82a8-4e70-9793-d9f849b1fdd0",
   "metadata": {},
   "source": [
    "# Dataset"
   ]
  },
  {
   "cell_type": "code",
   "execution_count": 5,
   "id": "93e8721f-d7d6-45b2-aa84-bf5c21bddeb5",
   "metadata": {
    "tags": []
   },
   "outputs": [
    {
     "data": {
      "application/vnd.jupyter.widget-view+json": {
       "model_id": "c21916740b09411a9cd871354df81931",
       "version_major": 2,
       "version_minor": 0
      },
      "text/plain": [
       "README.md:   0%|          | 0.00/12.3k [00:00<?, ?B/s]"
      ]
     },
     "metadata": {},
     "output_type": "display_data"
    },
    {
     "data": {
      "application/vnd.jupyter.widget-view+json": {
       "model_id": "b8d33109741d49479b58be5680fc86dc",
       "version_major": 2,
       "version_minor": 0
      },
      "text/plain": [
       "conll2003.py:   0%|          | 0.00/9.57k [00:00<?, ?B/s]"
      ]
     },
     "metadata": {},
     "output_type": "display_data"
    },
    {
     "name": "stdin",
     "output_type": "stream",
     "text": [
      "The repository for conll2003 contains custom code which must be executed to correctly load the dataset. You can inspect the repository content at https://hf.co/datasets/conll2003.\n",
      "You can avoid this prompt in future by passing the argument `trust_remote_code=True`.\n",
      "\n",
      "Do you wish to run the custom code? [y/N]  y\n"
     ]
    },
    {
     "data": {
      "application/vnd.jupyter.widget-view+json": {
       "model_id": "ba65947d9b4a42eeba7981743c67c196",
       "version_major": 2,
       "version_minor": 0
      },
      "text/plain": [
       "Downloading data:   0%|          | 0.00/983k [00:00<?, ?B/s]"
      ]
     },
     "metadata": {},
     "output_type": "display_data"
    },
    {
     "data": {
      "application/vnd.jupyter.widget-view+json": {
       "model_id": "056884f25bde47d3aa6bc280364d97f0",
       "version_major": 2,
       "version_minor": 0
      },
      "text/plain": [
       "Generating train split:   0%|          | 0/14041 [00:00<?, ? examples/s]"
      ]
     },
     "metadata": {},
     "output_type": "display_data"
    },
    {
     "data": {
      "application/vnd.jupyter.widget-view+json": {
       "model_id": "df5914be75d949d08b24243c33fc6e90",
       "version_major": 2,
       "version_minor": 0
      },
      "text/plain": [
       "Generating validation split:   0%|          | 0/3250 [00:00<?, ? examples/s]"
      ]
     },
     "metadata": {},
     "output_type": "display_data"
    },
    {
     "data": {
      "application/vnd.jupyter.widget-view+json": {
       "model_id": "5c1cac5f8c324ab2a36e548d876e5614",
       "version_major": 2,
       "version_minor": 0
      },
      "text/plain": [
       "Generating test split:   0%|          | 0/3453 [00:00<?, ? examples/s]"
      ]
     },
     "metadata": {},
     "output_type": "display_data"
    }
   ],
   "source": [
    "# Load the CoNLL-2003 dataset\n",
    "dataset = load_dataset(\"conll2003\")\n",
    "label_list = dataset[\"train\"].features[\"ner_tags\"].feature.names\n",
    "num_labels = len(label_list)"
   ]
  },
  {
   "cell_type": "code",
   "execution_count": 6,
   "id": "623c8bea-85cf-4159-8501-6b255406e860",
   "metadata": {
    "tags": []
   },
   "outputs": [
    {
     "data": {
      "application/vnd.jupyter.widget-view+json": {
       "model_id": "8c57d9f44fc14a3b8111a372724c31f0",
       "version_major": 2,
       "version_minor": 0
      },
      "text/plain": [
       "tokenizer_config.json:   0%|          | 0.00/49.0 [00:00<?, ?B/s]"
      ]
     },
     "metadata": {},
     "output_type": "display_data"
    },
    {
     "data": {
      "application/vnd.jupyter.widget-view+json": {
       "model_id": "bbf3ea6e57164a1f824ea05da9e4698f",
       "version_major": 2,
       "version_minor": 0
      },
      "text/plain": [
       "config.json:   0%|          | 0.00/570 [00:00<?, ?B/s]"
      ]
     },
     "metadata": {},
     "output_type": "display_data"
    },
    {
     "data": {
      "application/vnd.jupyter.widget-view+json": {
       "model_id": "ce7f2786729444a5b906850e0b94fe32",
       "version_major": 2,
       "version_minor": 0
      },
      "text/plain": [
       "vocab.txt:   0%|          | 0.00/213k [00:00<?, ?B/s]"
      ]
     },
     "metadata": {},
     "output_type": "display_data"
    },
    {
     "data": {
      "application/vnd.jupyter.widget-view+json": {
       "model_id": "4ba6579f13df457cb7f13cc3c5be8f45",
       "version_major": 2,
       "version_minor": 0
      },
      "text/plain": [
       "tokenizer.json:   0%|          | 0.00/436k [00:00<?, ?B/s]"
      ]
     },
     "metadata": {},
     "output_type": "display_data"
    },
    {
     "data": {
      "application/vnd.jupyter.widget-view+json": {
       "model_id": "51dcb211434c4eb0ba8a98043e54d3c1",
       "version_major": 2,
       "version_minor": 0
      },
      "text/plain": [
       "Map:   0%|          | 0/14041 [00:00<?, ? examples/s]"
      ]
     },
     "metadata": {},
     "output_type": "display_data"
    },
    {
     "data": {
      "application/vnd.jupyter.widget-view+json": {
       "model_id": "ce08333fac024b8e8eff615cfdf5eab1",
       "version_major": 2,
       "version_minor": 0
      },
      "text/plain": [
       "Map:   0%|          | 0/3250 [00:00<?, ? examples/s]"
      ]
     },
     "metadata": {},
     "output_type": "display_data"
    },
    {
     "data": {
      "application/vnd.jupyter.widget-view+json": {
       "model_id": "0ccdefe8ef8b40918591f7f9991ebe87",
       "version_major": 2,
       "version_minor": 0
      },
      "text/plain": [
       "Map:   0%|          | 0/3453 [00:00<?, ? examples/s]"
      ]
     },
     "metadata": {},
     "output_type": "display_data"
    }
   ],
   "source": [
    "# Tokenizer\n",
    "tokenizer = AutoTokenizer.from_pretrained(\"bert-base-cased\")\n",
    "\n",
    "# Tokenization and alignment\n",
    "def tokenize_and_align_labels(batch):\n",
    "    tokenized_inputs = tokenizer(batch[\"tokens\"], truncation=True, is_split_into_words=True)\n",
    "    labels = []\n",
    "    for i, label in enumerate(batch[\"ner_tags\"]):\n",
    "        word_ids = tokenized_inputs.word_ids(batch_index=i)\n",
    "        aligned_labels = [-100 if word_id is None else label[word_id] for word_id in word_ids]\n",
    "        labels.append(aligned_labels)\n",
    "    tokenized_inputs[\"labels\"] = labels\n",
    "    return tokenized_inputs\n",
    "\n",
    "tokenized_datasets = dataset.map(tokenize_and_align_labels, batched=True)"
   ]
  },
  {
   "cell_type": "code",
   "execution_count": 7,
   "id": "8eb22191-cd4f-4a35-83ee-fd0ea7369747",
   "metadata": {
    "tags": []
   },
   "outputs": [],
   "source": [
    "# DataLoader collate function\n",
    "def collate_fn(batch):\n",
    "    input_ids = [torch.tensor(x[\"input_ids\"]) for x in batch]\n",
    "    attention_mask = [torch.tensor(x[\"attention_mask\"]) for x in batch]\n",
    "    labels = [torch.tensor(x[\"labels\"]) for x in batch]\n",
    "\n",
    "    input_ids_padded = pad_sequence(input_ids, batch_first=True, padding_value=tokenizer.pad_token_id)\n",
    "    attention_mask_padded = pad_sequence(attention_mask, batch_first=True, padding_value=0)\n",
    "    labels_padded = pad_sequence(labels, batch_first=True, padding_value=-100)\n",
    "\n",
    "    return {\n",
    "        \"input_ids\": input_ids_padded,\n",
    "        \"attention_mask\": attention_mask_padded,\n",
    "        \"labels\": labels_padded,\n",
    "    }\n",
    "\n",
    "train_loader = DataLoader(tokenized_datasets[\"train\"], batch_size=16, collate_fn=collate_fn)\n",
    "val_loader = DataLoader(tokenized_datasets[\"validation\"], batch_size=16, collate_fn=collate_fn)"
   ]
  },
  {
   "cell_type": "markdown",
   "id": "3b791787-b611-4105-b233-be1a62733e77",
   "metadata": {
    "tags": []
   },
   "source": [
    "# Model"
   ]
  },
  {
   "cell_type": "markdown",
   "id": "045508ff-e5c7-4dcf-a18b-94f44e7a5e6e",
   "metadata": {
    "jp-MarkdownHeadingCollapsed": true,
    "tags": []
   },
   "source": [
    "## Training"
   ]
  },
  {
   "cell_type": "code",
   "execution_count": 8,
   "id": "0e9aa2f4-ce43-449f-8b8d-e6bbaa2dc19a",
   "metadata": {
    "tags": []
   },
   "outputs": [],
   "source": [
    "class BertForNERWithLayerAttention(nn.Module):\n",
    "    def __init__(self, pretrained_model_name, num_labels):\n",
    "        super(BertForNERWithLayerAttention, self).__init__()\n",
    "        self.bert = AutoModel.from_pretrained(pretrained_model_name, output_hidden_states=True)\n",
    "        self.num_hidden_layers = self.bert.config.num_hidden_layers + 1 \n",
    "        self.layer_weights = nn.Parameter(torch.ones(self.num_hidden_layers))\n",
    "        self.dropout = nn.Dropout(0.3)\n",
    "        self.classifier = nn.Linear(self.bert.config.hidden_size, num_labels)\n",
    "\n",
    "    def forward(self, input_ids, attention_mask, labels=None):\n",
    "        outputs = self.bert(input_ids=input_ids, attention_mask=attention_mask)\n",
    "        hidden_states = torch.stack(outputs.hidden_states, dim=0)  # (num_layers, batch_size, seq_len, hidden_size)\n",
    "        weighted_hidden_states = torch.sum(self.layer_weights[:, None, None, None] * hidden_states, dim=0)\n",
    "        sequence_output = self.dropout(weighted_hidden_states)\n",
    "        logits = self.classifier(sequence_output)\n",
    "\n",
    "        loss = None\n",
    "        if labels is not None:\n",
    "            loss_fn = nn.CrossEntropyLoss()\n",
    "            active_loss = attention_mask.view(-1) == 1\n",
    "            active_logits = logits.view(-1, logits.size(-1))[active_loss]\n",
    "            active_labels = labels.view(-1)[active_loss]\n",
    "            loss = loss_fn(active_logits, active_labels)\n",
    "\n",
    "        return {\"loss\": loss, \"logits\": logits}"
   ]
  },
  {
   "cell_type": "code",
   "execution_count": 9,
   "id": "b1b3395d-c395-4195-981f-e61e0023357b",
   "metadata": {
    "tags": []
   },
   "outputs": [
    {
     "data": {
      "application/vnd.jupyter.widget-view+json": {
       "model_id": "7a7b057680084589b55d3bd56770f074",
       "version_major": 2,
       "version_minor": 0
      },
      "text/plain": [
       "model.safetensors:   0%|          | 0.00/436M [00:00<?, ?B/s]"
      ]
     },
     "metadata": {},
     "output_type": "display_data"
    },
    {
     "name": "stderr",
     "output_type": "stream",
     "text": [
      "huggingface/tokenizers: The current process just got forked, after parallelism has already been used. Disabling parallelism to avoid deadlocks...\n",
      "To disable this warning, you can either:\n",
      "\t- Avoid using `tokenizers` before the fork if possible\n",
      "\t- Explicitly set the environment variable TOKENIZERS_PARALLELISM=(true | false)\n",
      "huggingface/tokenizers: The current process just got forked, after parallelism has already been used. Disabling parallelism to avoid deadlocks...\n",
      "To disable this warning, you can either:\n",
      "\t- Avoid using `tokenizers` before the fork if possible\n",
      "\t- Explicitly set the environment variable TOKENIZERS_PARALLELISM=(true | false)\n"
     ]
    }
   ],
   "source": [
    "# Instantiate model\n",
    "device = torch.device(\"cuda\" if torch.cuda.is_available() else \"cpu\")\n",
    "model = BertForNERWithLayerAttention(pretrained_model_name=\"bert-base-cased\", num_labels=num_labels).to(device)\n",
    "# Optimizer\n",
    "optimizer = torch.optim.AdamW(model.parameters(), lr=5e-5)"
   ]
  },
  {
   "cell_type": "code",
   "execution_count": 10,
   "id": "d9fb4fcc-3879-4216-9191-13d6076edafb",
   "metadata": {
    "tags": []
   },
   "outputs": [
    {
     "name": "stderr",
     "output_type": "stream",
     "text": [
      "Epoch 1: 100%|██████████| 878/878 [01:15<00:00, 11.65it/s]\n"
     ]
    },
    {
     "name": "stdout",
     "output_type": "stream",
     "text": [
      "Epoch 1 Loss: 0.5253659653293948\n"
     ]
    },
    {
     "name": "stderr",
     "output_type": "stream",
     "text": [
      "Epoch 2: 100%|██████████| 878/878 [00:49<00:00, 17.82it/s]\n"
     ]
    },
    {
     "name": "stdout",
     "output_type": "stream",
     "text": [
      "Epoch 2 Loss: 0.1434093017832039\n"
     ]
    },
    {
     "name": "stderr",
     "output_type": "stream",
     "text": [
      "Epoch 3: 100%|██████████| 878/878 [00:49<00:00, 17.78it/s]"
     ]
    },
    {
     "name": "stdout",
     "output_type": "stream",
     "text": [
      "Epoch 3 Loss: 0.06444175787890495\n"
     ]
    },
    {
     "name": "stderr",
     "output_type": "stream",
     "text": [
      "\n"
     ]
    }
   ],
   "source": [
    "# Training Loop\n",
    "epochs = 3\n",
    "for epoch in range(epochs):\n",
    "    model.train()\n",
    "    total_loss = 0\n",
    "    for batch in tqdm(train_loader, desc=f\"Epoch {epoch + 1}\"):\n",
    "        optimizer.zero_grad()\n",
    "        input_ids = batch[\"input_ids\"].to(device)\n",
    "        attention_mask = batch[\"attention_mask\"].to(device)\n",
    "        labels = batch[\"labels\"].to(device)\n",
    "\n",
    "        outputs = model(input_ids=input_ids, attention_mask=attention_mask, labels=labels)\n",
    "        loss = outputs[\"loss\"]\n",
    "        loss.backward()\n",
    "        optimizer.step()\n",
    "        total_loss += loss.item()\n",
    "    print(f\"Epoch {epoch + 1} Loss: {total_loss / len(train_loader)}\")"
   ]
  },
  {
   "cell_type": "markdown",
   "id": "c1ced811-b47d-4ced-8dae-5bacd5c53c9e",
   "metadata": {
    "jp-MarkdownHeadingCollapsed": true,
    "tags": []
   },
   "source": [
    "## Evaluation"
   ]
  },
  {
   "cell_type": "code",
   "execution_count": 11,
   "id": "9a76f97b-1bed-4563-af48-3a2f58660181",
   "metadata": {
    "tags": []
   },
   "outputs": [
    {
     "name": "stderr",
     "output_type": "stream",
     "text": [
      "Evaluating: 100%|██████████| 204/204 [00:04<00:00, 46.10it/s]\n"
     ]
    },
    {
     "name": "stdout",
     "output_type": "stream",
     "text": [
      "              precision    recall  f1-score   support\n",
      "\n",
      "         LOC       0.95      0.94      0.94      3635\n",
      "        MISC       0.80      0.85      0.82      1480\n",
      "         ORG       0.91      0.89      0.90      2702\n",
      "         PER       0.96      0.93      0.95      3329\n",
      "\n",
      "   micro avg       0.92      0.91      0.92     11146\n",
      "   macro avg       0.90      0.90      0.90     11146\n",
      "weighted avg       0.92      0.91      0.92     11146\n",
      "\n"
     ]
    }
   ],
   "source": [
    "model.eval()\n",
    "predictions, true_labels = [], []\n",
    "with torch.no_grad():\n",
    "    for batch in tqdm(val_loader, desc=\"Evaluating\"):\n",
    "        input_ids = batch[\"input_ids\"].to(device)\n",
    "        attention_mask = batch[\"attention_mask\"].to(device)\n",
    "        labels = batch[\"labels\"].to(device)\n",
    "\n",
    "        outputs = model(input_ids=input_ids, attention_mask=attention_mask)\n",
    "        logits = outputs[\"logits\"]\n",
    "        preds = torch.argmax(logits, dim=-1)\n",
    "\n",
    "        for pred, label in zip(preds.cpu().numpy(), labels.cpu().numpy()):\n",
    "            predictions.append([label_list[p] for p, l in zip(pred, label) if l != -100])\n",
    "            true_labels.append([label_list[l] for p, l in zip(pred, label) if l != -100])\n",
    "\n",
    "print(classification_report(true_labels, predictions))"
   ]
  },
  {
   "cell_type": "markdown",
   "id": "813bd184-7514-45ad-a2d8-2af27c3643aa",
   "metadata": {
    "jp-MarkdownHeadingCollapsed": true,
    "tags": []
   },
   "source": [
    "## Hyperparameter Tuning"
   ]
  },
  {
   "cell_type": "markdown",
   "id": "7d8d9dd3-e8b7-43cd-b10a-9614307b2455",
   "metadata": {
    "jp-MarkdownHeadingCollapsed": true,
    "tags": []
   },
   "source": [
    "### Optuna Study"
   ]
  },
  {
   "cell_type": "code",
   "execution_count": 12,
   "id": "394162ea-bb7b-41d3-8087-af873cf007f3",
   "metadata": {
    "tags": []
   },
   "outputs": [],
   "source": [
    "def objective(trial):\n",
    "    # Suggest hyperparameters\n",
    "    learning_rate = trial.suggest_loguniform(\"learning_rate\", 1e-5, 1e-3)\n",
    "    dropout_rate = trial.suggest_uniform(\"dropout_rate\", 0.1, 0.5)\n",
    "    batch_size = trial.suggest_categorical(\"batch_size\", [8, 16, 32])\n",
    "    num_epochs = 3\n",
    "\n",
    "    # Define model with trial's hyperparameters\n",
    "    class BertForNER(nn.Module):\n",
    "        def __init__(self, pretrained_model_name, num_labels):\n",
    "            super(BertForNER, self).__init__()\n",
    "            self.bert = AutoModel.from_pretrained(pretrained_model_name, output_hidden_states=True)\n",
    "            self.num_hidden_layers = self.bert.config.num_hidden_layers + 1\n",
    "            self.layer_weights = nn.Parameter(torch.ones(self.num_hidden_layers))\n",
    "            self.dropout = nn.Dropout(dropout_rate)  # Use trial's dropout rate\n",
    "            self.classifier = nn.Linear(self.bert.config.hidden_size, num_labels)\n",
    "\n",
    "        def forward(self, input_ids, attention_mask, labels=None):\n",
    "            outputs = self.bert(input_ids=input_ids, attention_mask=attention_mask)\n",
    "            hidden_states = torch.stack(outputs.hidden_states, dim=0)  # (num_layers, batch_size, seq_len, hidden_size)\n",
    "            weighted_hidden_states = torch.sum(self.layer_weights[:, None, None, None] * hidden_states, dim=0)\n",
    "            sequence_output = self.dropout(weighted_hidden_states)\n",
    "            logits = self.classifier(sequence_output)\n",
    "\n",
    "            loss = None\n",
    "            if labels is not None:\n",
    "                loss_fn = nn.CrossEntropyLoss()\n",
    "                active_loss = attention_mask.view(-1) == 1\n",
    "                active_logits = logits.view(-1, logits.size(-1))[active_loss]\n",
    "                active_labels = labels.view(-1)[active_loss]\n",
    "                loss = loss_fn(active_logits, active_labels)\n",
    "\n",
    "            return {\"loss\": loss, \"logits\": logits}\n",
    "\n",
    "    # Initialize model\n",
    "    device = torch.device(\"cuda\" if torch.cuda.is_available() else \"cpu\")\n",
    "    model = BertForNER(pretrained_model_name=\"bert-base-cased\", num_labels=num_labels).to(device)\n",
    "\n",
    "    # Define optimizer\n",
    "    optimizer = AdamW(model.parameters(), lr=learning_rate)\n",
    "\n",
    "    # Prepare data loaders\n",
    "    train_loader = DataLoader(tokenized_datasets[\"train\"], batch_size=batch_size, collate_fn=collate_fn)\n",
    "    val_loader = DataLoader(tokenized_datasets[\"validation\"], batch_size=batch_size, collate_fn=collate_fn)\n",
    "\n",
    "    # Training loop\n",
    "    for epoch in range(num_epochs):\n",
    "        model.train()\n",
    "        for batch in tqdm(train_loader, desc=f\"Epoch {epoch + 1}\"):\n",
    "            optimizer.zero_grad()\n",
    "            input_ids = batch[\"input_ids\"].to(device)\n",
    "            attention_mask = batch[\"attention_mask\"].to(device)\n",
    "            labels = batch[\"labels\"].to(device)\n",
    "\n",
    "            outputs = model(input_ids=input_ids, attention_mask=attention_mask, labels=labels)\n",
    "            loss = outputs[\"loss\"]\n",
    "            loss.backward()\n",
    "            optimizer.step()\n",
    "\n",
    "    # Evaluation\n",
    "    model.eval()\n",
    "    predictions, true_labels = [], []\n",
    "    with torch.no_grad():\n",
    "        for batch in val_loader:\n",
    "            input_ids = batch[\"input_ids\"].to(device)\n",
    "            attention_mask = batch[\"attention_mask\"].to(device)\n",
    "            labels = batch[\"labels\"].to(device)\n",
    "\n",
    "            outputs = model(input_ids=input_ids, attention_mask=attention_mask)\n",
    "            logits = outputs[\"logits\"]\n",
    "            preds = torch.argmax(logits, dim=-1)\n",
    "\n",
    "            for pred, label in zip(preds.cpu().numpy(), labels.cpu().numpy()):\n",
    "                predictions.append([label_list[p] for p, l in zip(pred, label) if l != -100])\n",
    "                true_labels.append([label_list[l] for p, l in zip(pred, label) if l != -100])\n",
    "\n",
    "    # Compute F1-score\n",
    "    f1 = f1_score([label for seq in true_labels for label in seq],\n",
    "                  [label for seq in predictions for label in seq],\n",
    "                  average=\"weighted\")\n",
    "    return f1"
   ]
  },
  {
   "cell_type": "code",
   "execution_count": 13,
   "id": "13a94854-8507-447d-8909-8ef27d50e0e3",
   "metadata": {
    "tags": []
   },
   "outputs": [
    {
     "name": "stderr",
     "output_type": "stream",
     "text": [
      "[I 2024-12-09 20:26:33,093] A new study created in memory with name: no-name-d3fd9897-1d25-4f9d-a5f9-684f1f3e0da8\n",
      "/tmp/ipykernel_15366/3088590689.py:3: FutureWarning: suggest_loguniform has been deprecated in v3.0.0. This feature will be removed in v6.0.0. See https://github.com/optuna/optuna/releases/tag/v3.0.0. Use suggest_float(..., log=True) instead.\n",
      "  learning_rate = trial.suggest_loguniform(\"learning_rate\", 1e-5, 1e-3)\n",
      "/tmp/ipykernel_15366/3088590689.py:4: FutureWarning: suggest_uniform has been deprecated in v3.0.0. This feature will be removed in v6.0.0. See https://github.com/optuna/optuna/releases/tag/v3.0.0. Use suggest_float instead.\n",
      "  dropout_rate = trial.suggest_uniform(\"dropout_rate\", 0.1, 0.5)\n",
      "Epoch 1: 100%|██████████| 1756/1756 [01:19<00:00, 22.12it/s]\n",
      "Epoch 2: 100%|██████████| 1756/1756 [01:18<00:00, 22.25it/s]\n",
      "Epoch 3: 100%|██████████| 1756/1756 [01:18<00:00, 22.27it/s]\n",
      "[I 2024-12-09 20:30:36,510] Trial 0 finished with value: 0.9625228572100585 and parameters: {'learning_rate': 0.000141150884172717, 'dropout_rate': 0.11722622565477665, 'batch_size': 8}. Best is trial 0 with value: 0.9625228572100585.\n",
      "/tmp/ipykernel_15366/3088590689.py:3: FutureWarning: suggest_loguniform has been deprecated in v3.0.0. This feature will be removed in v6.0.0. See https://github.com/optuna/optuna/releases/tag/v3.0.0. Use suggest_float(..., log=True) instead.\n",
      "  learning_rate = trial.suggest_loguniform(\"learning_rate\", 1e-5, 1e-3)\n",
      "/tmp/ipykernel_15366/3088590689.py:4: FutureWarning: suggest_uniform has been deprecated in v3.0.0. This feature will be removed in v6.0.0. See https://github.com/optuna/optuna/releases/tag/v3.0.0. Use suggest_float instead.\n",
      "  dropout_rate = trial.suggest_uniform(\"dropout_rate\", 0.1, 0.5)\n",
      "Epoch 1: 100%|██████████| 439/439 [00:38<00:00, 11.30it/s]\n",
      "Epoch 2: 100%|██████████| 439/439 [00:38<00:00, 11.42it/s]\n",
      "Epoch 3: 100%|██████████| 439/439 [00:38<00:00, 11.40it/s]\n",
      "[I 2024-12-09 20:32:36,415] Trial 1 finished with value: 0.9771534330519301 and parameters: {'learning_rate': 1.0011031686535841e-05, 'dropout_rate': 0.4300063316924849, 'batch_size': 32}. Best is trial 1 with value: 0.9771534330519301.\n",
      "/tmp/ipykernel_15366/3088590689.py:3: FutureWarning: suggest_loguniform has been deprecated in v3.0.0. This feature will be removed in v6.0.0. See https://github.com/optuna/optuna/releases/tag/v3.0.0. Use suggest_float(..., log=True) instead.\n",
      "  learning_rate = trial.suggest_loguniform(\"learning_rate\", 1e-5, 1e-3)\n",
      "/tmp/ipykernel_15366/3088590689.py:4: FutureWarning: suggest_uniform has been deprecated in v3.0.0. This feature will be removed in v6.0.0. See https://github.com/optuna/optuna/releases/tag/v3.0.0. Use suggest_float instead.\n",
      "  dropout_rate = trial.suggest_uniform(\"dropout_rate\", 0.1, 0.5)\n",
      "Epoch 1: 100%|██████████| 878/878 [00:45<00:00, 19.20it/s]\n",
      "Epoch 2: 100%|██████████| 878/878 [00:45<00:00, 19.15it/s]\n",
      "Epoch 3: 100%|██████████| 878/878 [00:46<00:00, 19.05it/s]\n",
      "[I 2024-12-09 20:34:58,212] Trial 2 finished with value: 0.9797220802027196 and parameters: {'learning_rate': 5.92523756705688e-05, 'dropout_rate': 0.3735607472600887, 'batch_size': 16}. Best is trial 2 with value: 0.9797220802027196.\n",
      "/tmp/ipykernel_15366/3088590689.py:3: FutureWarning: suggest_loguniform has been deprecated in v3.0.0. This feature will be removed in v6.0.0. See https://github.com/optuna/optuna/releases/tag/v3.0.0. Use suggest_float(..., log=True) instead.\n",
      "  learning_rate = trial.suggest_loguniform(\"learning_rate\", 1e-5, 1e-3)\n",
      "/tmp/ipykernel_15366/3088590689.py:4: FutureWarning: suggest_uniform has been deprecated in v3.0.0. This feature will be removed in v6.0.0. See https://github.com/optuna/optuna/releases/tag/v3.0.0. Use suggest_float instead.\n",
      "  dropout_rate = trial.suggest_uniform(\"dropout_rate\", 0.1, 0.5)\n",
      "Epoch 1: 100%|██████████| 439/439 [00:38<00:00, 11.40it/s]\n",
      "Epoch 2: 100%|██████████| 439/439 [00:38<00:00, 11.40it/s]\n",
      "Epoch 3: 100%|██████████| 439/439 [00:38<00:00, 11.40it/s]\n",
      "[I 2024-12-09 20:36:57,653] Trial 3 finished with value: 0.9806643190161217 and parameters: {'learning_rate': 0.00012623929991367855, 'dropout_rate': 0.27302319398224634, 'batch_size': 32}. Best is trial 3 with value: 0.9806643190161217.\n",
      "/tmp/ipykernel_15366/3088590689.py:3: FutureWarning: suggest_loguniform has been deprecated in v3.0.0. This feature will be removed in v6.0.0. See https://github.com/optuna/optuna/releases/tag/v3.0.0. Use suggest_float(..., log=True) instead.\n",
      "  learning_rate = trial.suggest_loguniform(\"learning_rate\", 1e-5, 1e-3)\n",
      "/tmp/ipykernel_15366/3088590689.py:4: FutureWarning: suggest_uniform has been deprecated in v3.0.0. This feature will be removed in v6.0.0. See https://github.com/optuna/optuna/releases/tag/v3.0.0. Use suggest_float instead.\n",
      "  dropout_rate = trial.suggest_uniform(\"dropout_rate\", 0.1, 0.5)\n",
      "Epoch 1: 100%|██████████| 878/878 [00:46<00:00, 19.04it/s]\n",
      "Epoch 2: 100%|██████████| 878/878 [00:46<00:00, 19.05it/s]\n",
      "Epoch 3: 100%|██████████| 878/878 [00:46<00:00, 19.05it/s]\n",
      "[I 2024-12-09 20:39:20,028] Trial 4 finished with value: 0.9800115208440828 and parameters: {'learning_rate': 1.3964771186594715e-05, 'dropout_rate': 0.11623883762505881, 'batch_size': 16}. Best is trial 3 with value: 0.9806643190161217.\n",
      "/tmp/ipykernel_15366/3088590689.py:3: FutureWarning: suggest_loguniform has been deprecated in v3.0.0. This feature will be removed in v6.0.0. See https://github.com/optuna/optuna/releases/tag/v3.0.0. Use suggest_float(..., log=True) instead.\n",
      "  learning_rate = trial.suggest_loguniform(\"learning_rate\", 1e-5, 1e-3)\n",
      "/tmp/ipykernel_15366/3088590689.py:4: FutureWarning: suggest_uniform has been deprecated in v3.0.0. This feature will be removed in v6.0.0. See https://github.com/optuna/optuna/releases/tag/v3.0.0. Use suggest_float instead.\n",
      "  dropout_rate = trial.suggest_uniform(\"dropout_rate\", 0.1, 0.5)\n",
      "Epoch 1: 100%|██████████| 878/878 [00:46<00:00, 19.05it/s]\n",
      "Epoch 2: 100%|██████████| 878/878 [00:46<00:00, 19.03it/s]\n",
      "Epoch 3: 100%|██████████| 878/878 [00:46<00:00, 19.04it/s]\n",
      "[I 2024-12-09 20:41:42,457] Trial 5 finished with value: 0.9409136643721742 and parameters: {'learning_rate': 0.0004640880898497411, 'dropout_rate': 0.4798854206828497, 'batch_size': 16}. Best is trial 3 with value: 0.9806643190161217.\n",
      "/tmp/ipykernel_15366/3088590689.py:3: FutureWarning: suggest_loguniform has been deprecated in v3.0.0. This feature will be removed in v6.0.0. See https://github.com/optuna/optuna/releases/tag/v3.0.0. Use suggest_float(..., log=True) instead.\n",
      "  learning_rate = trial.suggest_loguniform(\"learning_rate\", 1e-5, 1e-3)\n",
      "/tmp/ipykernel_15366/3088590689.py:4: FutureWarning: suggest_uniform has been deprecated in v3.0.0. This feature will be removed in v6.0.0. See https://github.com/optuna/optuna/releases/tag/v3.0.0. Use suggest_float instead.\n",
      "  dropout_rate = trial.suggest_uniform(\"dropout_rate\", 0.1, 0.5)\n",
      "Epoch 1: 100%|██████████| 878/878 [00:46<00:00, 19.06it/s]\n",
      "Epoch 2: 100%|██████████| 878/878 [00:46<00:00, 19.03it/s]\n",
      "Epoch 3: 100%|██████████| 878/878 [00:46<00:00, 19.02it/s]\n",
      "[I 2024-12-09 20:44:05,042] Trial 6 finished with value: 0.9795343254317086 and parameters: {'learning_rate': 8.839054689537873e-05, 'dropout_rate': 0.1043569736134396, 'batch_size': 16}. Best is trial 3 with value: 0.9806643190161217.\n",
      "/tmp/ipykernel_15366/3088590689.py:3: FutureWarning: suggest_loguniform has been deprecated in v3.0.0. This feature will be removed in v6.0.0. See https://github.com/optuna/optuna/releases/tag/v3.0.0. Use suggest_float(..., log=True) instead.\n",
      "  learning_rate = trial.suggest_loguniform(\"learning_rate\", 1e-5, 1e-3)\n",
      "/tmp/ipykernel_15366/3088590689.py:4: FutureWarning: suggest_uniform has been deprecated in v3.0.0. This feature will be removed in v6.0.0. See https://github.com/optuna/optuna/releases/tag/v3.0.0. Use suggest_float instead.\n",
      "  dropout_rate = trial.suggest_uniform(\"dropout_rate\", 0.1, 0.5)\n",
      "Epoch 1: 100%|██████████| 439/439 [00:38<00:00, 11.38it/s]\n",
      "Epoch 2: 100%|██████████| 439/439 [00:38<00:00, 11.40it/s]\n",
      "Epoch 3: 100%|██████████| 439/439 [00:38<00:00, 11.41it/s]\n",
      "[I 2024-12-09 20:46:04,580] Trial 7 finished with value: 0.9804519713876623 and parameters: {'learning_rate': 3.803970409694285e-05, 'dropout_rate': 0.14261693074177326, 'batch_size': 32}. Best is trial 3 with value: 0.9806643190161217.\n",
      "/tmp/ipykernel_15366/3088590689.py:3: FutureWarning: suggest_loguniform has been deprecated in v3.0.0. This feature will be removed in v6.0.0. See https://github.com/optuna/optuna/releases/tag/v3.0.0. Use suggest_float(..., log=True) instead.\n",
      "  learning_rate = trial.suggest_loguniform(\"learning_rate\", 1e-5, 1e-3)\n",
      "/tmp/ipykernel_15366/3088590689.py:4: FutureWarning: suggest_uniform has been deprecated in v3.0.0. This feature will be removed in v6.0.0. See https://github.com/optuna/optuna/releases/tag/v3.0.0. Use suggest_float instead.\n",
      "  dropout_rate = trial.suggest_uniform(\"dropout_rate\", 0.1, 0.5)\n",
      "Epoch 1: 100%|██████████| 878/878 [00:45<00:00, 19.16it/s]\n",
      "Epoch 2: 100%|██████████| 878/878 [00:45<00:00, 19.15it/s]\n",
      "Epoch 3: 100%|██████████| 878/878 [00:46<00:00, 18.92it/s]\n",
      "[I 2024-12-09 20:48:26,866] Trial 8 finished with value: 0.9781879412320235 and parameters: {'learning_rate': 5.305972253089446e-05, 'dropout_rate': 0.10725793821986983, 'batch_size': 16}. Best is trial 3 with value: 0.9806643190161217.\n",
      "/tmp/ipykernel_15366/3088590689.py:3: FutureWarning: suggest_loguniform has been deprecated in v3.0.0. This feature will be removed in v6.0.0. See https://github.com/optuna/optuna/releases/tag/v3.0.0. Use suggest_float(..., log=True) instead.\n",
      "  learning_rate = trial.suggest_loguniform(\"learning_rate\", 1e-5, 1e-3)\n",
      "/tmp/ipykernel_15366/3088590689.py:4: FutureWarning: suggest_uniform has been deprecated in v3.0.0. This feature will be removed in v6.0.0. See https://github.com/optuna/optuna/releases/tag/v3.0.0. Use suggest_float instead.\n",
      "  dropout_rate = trial.suggest_uniform(\"dropout_rate\", 0.1, 0.5)\n",
      "Epoch 1: 100%|██████████| 1756/1756 [01:18<00:00, 22.24it/s]\n",
      "Epoch 2: 100%|██████████| 1756/1756 [01:18<00:00, 22.27it/s]\n",
      "Epoch 3: 100%|██████████| 1756/1756 [01:18<00:00, 22.24it/s]\n",
      "[I 2024-12-09 20:52:29,858] Trial 9 finished with value: 0.9814482390434356 and parameters: {'learning_rate': 2.368450679577808e-05, 'dropout_rate': 0.38852705341705185, 'batch_size': 8}. Best is trial 9 with value: 0.9814482390434356.\n",
      "/tmp/ipykernel_15366/3088590689.py:3: FutureWarning: suggest_loguniform has been deprecated in v3.0.0. This feature will be removed in v6.0.0. See https://github.com/optuna/optuna/releases/tag/v3.0.0. Use suggest_float(..., log=True) instead.\n",
      "  learning_rate = trial.suggest_loguniform(\"learning_rate\", 1e-5, 1e-3)\n",
      "/tmp/ipykernel_15366/3088590689.py:4: FutureWarning: suggest_uniform has been deprecated in v3.0.0. This feature will be removed in v6.0.0. See https://github.com/optuna/optuna/releases/tag/v3.0.0. Use suggest_float instead.\n",
      "  dropout_rate = trial.suggest_uniform(\"dropout_rate\", 0.1, 0.5)\n",
      "Epoch 1: 100%|██████████| 1756/1756 [01:19<00:00, 21.98it/s]\n",
      "Epoch 2: 100%|██████████| 1756/1756 [01:19<00:00, 21.98it/s]\n",
      "Epoch 3: 100%|██████████| 1756/1756 [01:19<00:00, 21.99it/s]\n",
      "[I 2024-12-09 20:56:40,734] Trial 10 finished with value: 0.9806173623422931 and parameters: {'learning_rate': 2.3199598616203583e-05, 'dropout_rate': 0.25411047367906603, 'batch_size': 8}. Best is trial 9 with value: 0.9814482390434356.\n",
      "/tmp/ipykernel_15366/3088590689.py:3: FutureWarning: suggest_loguniform has been deprecated in v3.0.0. This feature will be removed in v6.0.0. See https://github.com/optuna/optuna/releases/tag/v3.0.0. Use suggest_float(..., log=True) instead.\n",
      "  learning_rate = trial.suggest_loguniform(\"learning_rate\", 1e-5, 1e-3)\n",
      "/tmp/ipykernel_15366/3088590689.py:4: FutureWarning: suggest_uniform has been deprecated in v3.0.0. This feature will be removed in v6.0.0. See https://github.com/optuna/optuna/releases/tag/v3.0.0. Use suggest_float instead.\n",
      "  dropout_rate = trial.suggest_uniform(\"dropout_rate\", 0.1, 0.5)\n",
      "Epoch 1: 100%|██████████| 1756/1756 [01:19<00:00, 21.99it/s]\n",
      "Epoch 2: 100%|██████████| 1756/1756 [01:19<00:00, 21.96it/s]\n",
      "Epoch 3: 100%|██████████| 1756/1756 [01:19<00:00, 21.97it/s]\n",
      "[I 2024-12-09 21:00:46,874] Trial 11 finished with value: 0.9455903455054818 and parameters: {'learning_rate': 0.0002298698036448889, 'dropout_rate': 0.29496562790643155, 'batch_size': 8}. Best is trial 9 with value: 0.9814482390434356.\n",
      "/tmp/ipykernel_15366/3088590689.py:3: FutureWarning: suggest_loguniform has been deprecated in v3.0.0. This feature will be removed in v6.0.0. See https://github.com/optuna/optuna/releases/tag/v3.0.0. Use suggest_float(..., log=True) instead.\n",
      "  learning_rate = trial.suggest_loguniform(\"learning_rate\", 1e-5, 1e-3)\n",
      "/tmp/ipykernel_15366/3088590689.py:4: FutureWarning: suggest_uniform has been deprecated in v3.0.0. This feature will be removed in v6.0.0. See https://github.com/optuna/optuna/releases/tag/v3.0.0. Use suggest_float instead.\n",
      "  dropout_rate = trial.suggest_uniform(\"dropout_rate\", 0.1, 0.5)\n",
      "Epoch 1: 100%|██████████| 439/439 [00:38<00:00, 11.37it/s]\n",
      "Epoch 2: 100%|██████████| 439/439 [00:38<00:00, 11.38it/s]\n",
      "Epoch 3: 100%|██████████| 439/439 [00:38<00:00, 11.37it/s]\n",
      "[I 2024-12-09 21:02:46,847] Trial 12 finished with value: 0.9350432376938259 and parameters: {'learning_rate': 0.000931613711617044, 'dropout_rate': 0.22758408274367847, 'batch_size': 32}. Best is trial 9 with value: 0.9814482390434356.\n",
      "/tmp/ipykernel_15366/3088590689.py:3: FutureWarning: suggest_loguniform has been deprecated in v3.0.0. This feature will be removed in v6.0.0. See https://github.com/optuna/optuna/releases/tag/v3.0.0. Use suggest_float(..., log=True) instead.\n",
      "  learning_rate = trial.suggest_loguniform(\"learning_rate\", 1e-5, 1e-3)\n",
      "/tmp/ipykernel_15366/3088590689.py:4: FutureWarning: suggest_uniform has been deprecated in v3.0.0. This feature will be removed in v6.0.0. See https://github.com/optuna/optuna/releases/tag/v3.0.0. Use suggest_float instead.\n",
      "  dropout_rate = trial.suggest_uniform(\"dropout_rate\", 0.1, 0.5)\n",
      "Epoch 1: 100%|██████████| 1756/1756 [01:16<00:00, 22.93it/s]\n",
      "Epoch 2: 100%|██████████| 1756/1756 [01:16<00:00, 22.87it/s]\n",
      "Epoch 3: 100%|██████████| 1756/1756 [01:16<00:00, 22.86it/s]\n",
      "[I 2024-12-09 21:06:42,921] Trial 13 finished with value: 0.9471864112462933 and parameters: {'learning_rate': 0.00021962774191667414, 'dropout_rate': 0.36644135645541936, 'batch_size': 8}. Best is trial 9 with value: 0.9814482390434356.\n",
      "/tmp/ipykernel_15366/3088590689.py:3: FutureWarning: suggest_loguniform has been deprecated in v3.0.0. This feature will be removed in v6.0.0. See https://github.com/optuna/optuna/releases/tag/v3.0.0. Use suggest_float(..., log=True) instead.\n",
      "  learning_rate = trial.suggest_loguniform(\"learning_rate\", 1e-5, 1e-3)\n",
      "/tmp/ipykernel_15366/3088590689.py:4: FutureWarning: suggest_uniform has been deprecated in v3.0.0. This feature will be removed in v6.0.0. See https://github.com/optuna/optuna/releases/tag/v3.0.0. Use suggest_float instead.\n",
      "  dropout_rate = trial.suggest_uniform(\"dropout_rate\", 0.1, 0.5)\n",
      "Epoch 1: 100%|██████████| 439/439 [00:38<00:00, 11.39it/s]\n",
      "Epoch 2: 100%|██████████| 439/439 [00:38<00:00, 11.38it/s]\n",
      "Epoch 3: 100%|██████████| 439/439 [00:38<00:00, 11.38it/s]\n",
      "[I 2024-12-09 21:08:43,133] Trial 14 finished with value: 0.9806160873013618 and parameters: {'learning_rate': 2.8051546937336753e-05, 'dropout_rate': 0.35287139734266265, 'batch_size': 32}. Best is trial 9 with value: 0.9814482390434356.\n",
      "/tmp/ipykernel_15366/3088590689.py:3: FutureWarning: suggest_loguniform has been deprecated in v3.0.0. This feature will be removed in v6.0.0. See https://github.com/optuna/optuna/releases/tag/v3.0.0. Use suggest_float(..., log=True) instead.\n",
      "  learning_rate = trial.suggest_loguniform(\"learning_rate\", 1e-5, 1e-3)\n",
      "/tmp/ipykernel_15366/3088590689.py:4: FutureWarning: suggest_uniform has been deprecated in v3.0.0. This feature will be removed in v6.0.0. See https://github.com/optuna/optuna/releases/tag/v3.0.0. Use suggest_float instead.\n",
      "  dropout_rate = trial.suggest_uniform(\"dropout_rate\", 0.1, 0.5)\n",
      "Epoch 1: 100%|██████████| 1756/1756 [01:18<00:00, 22.28it/s]\n",
      "Epoch 2: 100%|██████████| 1756/1756 [01:18<00:00, 22.27it/s]\n",
      "Epoch 3: 100%|██████████| 1756/1756 [01:18<00:00, 22.35it/s]\n",
      "[I 2024-12-09 21:12:45,220] Trial 15 finished with value: 0.971299213292132 and parameters: {'learning_rate': 9.969763324170449e-05, 'dropout_rate': 0.19757888782325794, 'batch_size': 8}. Best is trial 9 with value: 0.9814482390434356.\n",
      "/tmp/ipykernel_15366/3088590689.py:3: FutureWarning: suggest_loguniform has been deprecated in v3.0.0. This feature will be removed in v6.0.0. See https://github.com/optuna/optuna/releases/tag/v3.0.0. Use suggest_float(..., log=True) instead.\n",
      "  learning_rate = trial.suggest_loguniform(\"learning_rate\", 1e-5, 1e-3)\n",
      "/tmp/ipykernel_15366/3088590689.py:4: FutureWarning: suggest_uniform has been deprecated in v3.0.0. This feature will be removed in v6.0.0. See https://github.com/optuna/optuna/releases/tag/v3.0.0. Use suggest_float instead.\n",
      "  dropout_rate = trial.suggest_uniform(\"dropout_rate\", 0.1, 0.5)\n",
      "Epoch 1: 100%|██████████| 439/439 [00:38<00:00, 11.37it/s]\n",
      "Epoch 2: 100%|██████████| 439/439 [00:38<00:00, 11.40it/s]\n",
      "Epoch 3: 100%|██████████| 439/439 [00:38<00:00, 11.40it/s]\n",
      "[I 2024-12-09 21:14:45,336] Trial 16 finished with value: 0.9804327356025181 and parameters: {'learning_rate': 1.963193663124276e-05, 'dropout_rate': 0.3111155547423203, 'batch_size': 32}. Best is trial 9 with value: 0.9814482390434356.\n",
      "/tmp/ipykernel_15366/3088590689.py:3: FutureWarning: suggest_loguniform has been deprecated in v3.0.0. This feature will be removed in v6.0.0. See https://github.com/optuna/optuna/releases/tag/v3.0.0. Use suggest_float(..., log=True) instead.\n",
      "  learning_rate = trial.suggest_loguniform(\"learning_rate\", 1e-5, 1e-3)\n",
      "/tmp/ipykernel_15366/3088590689.py:4: FutureWarning: suggest_uniform has been deprecated in v3.0.0. This feature will be removed in v6.0.0. See https://github.com/optuna/optuna/releases/tag/v3.0.0. Use suggest_float instead.\n",
      "  dropout_rate = trial.suggest_uniform(\"dropout_rate\", 0.1, 0.5)\n",
      "Epoch 1: 100%|██████████| 1756/1756 [01:16<00:00, 22.87it/s]\n",
      "Epoch 2: 100%|██████████| 1756/1756 [01:16<00:00, 22.84it/s]\n",
      "Epoch 3: 100%|██████████| 1756/1756 [01:16<00:00, 22.84it/s]\n",
      "[I 2024-12-09 21:18:41,781] Trial 17 finished with value: 0.9535548047886165 and parameters: {'learning_rate': 0.00022898723684253261, 'dropout_rate': 0.4247878028063689, 'batch_size': 8}. Best is trial 9 with value: 0.9814482390434356.\n",
      "/tmp/ipykernel_15366/3088590689.py:3: FutureWarning: suggest_loguniform has been deprecated in v3.0.0. This feature will be removed in v6.0.0. See https://github.com/optuna/optuna/releases/tag/v3.0.0. Use suggest_float(..., log=True) instead.\n",
      "  learning_rate = trial.suggest_loguniform(\"learning_rate\", 1e-5, 1e-3)\n",
      "/tmp/ipykernel_15366/3088590689.py:4: FutureWarning: suggest_uniform has been deprecated in v3.0.0. This feature will be removed in v6.0.0. See https://github.com/optuna/optuna/releases/tag/v3.0.0. Use suggest_float instead.\n",
      "  dropout_rate = trial.suggest_uniform(\"dropout_rate\", 0.1, 0.5)\n",
      "Epoch 1: 100%|██████████| 439/439 [00:38<00:00, 11.39it/s]\n",
      "Epoch 2: 100%|██████████| 439/439 [00:38<00:00, 11.40it/s]\n",
      "Epoch 3: 100%|██████████| 439/439 [00:38<00:00, 11.40it/s]\n",
      "[I 2024-12-09 21:20:41,269] Trial 18 finished with value: 0.9810137487827686 and parameters: {'learning_rate': 5.7755824589409786e-05, 'dropout_rate': 0.2990901817633951, 'batch_size': 32}. Best is trial 9 with value: 0.9814482390434356.\n",
      "/tmp/ipykernel_15366/3088590689.py:3: FutureWarning: suggest_loguniform has been deprecated in v3.0.0. This feature will be removed in v6.0.0. See https://github.com/optuna/optuna/releases/tag/v3.0.0. Use suggest_float(..., log=True) instead.\n",
      "  learning_rate = trial.suggest_loguniform(\"learning_rate\", 1e-5, 1e-3)\n",
      "/tmp/ipykernel_15366/3088590689.py:4: FutureWarning: suggest_uniform has been deprecated in v3.0.0. This feature will be removed in v6.0.0. See https://github.com/optuna/optuna/releases/tag/v3.0.0. Use suggest_float instead.\n",
      "  dropout_rate = trial.suggest_uniform(\"dropout_rate\", 0.1, 0.5)\n",
      "Epoch 1: 100%|██████████| 439/439 [00:38<00:00, 11.41it/s]\n",
      "Epoch 2: 100%|██████████| 439/439 [00:38<00:00, 11.40it/s]\n",
      "Epoch 3: 100%|██████████| 439/439 [00:38<00:00, 11.40it/s]\n",
      "[I 2024-12-09 21:22:40,703] Trial 19 finished with value: 0.9820705601451223 and parameters: {'learning_rate': 4.369484270668493e-05, 'dropout_rate': 0.33027803609683487, 'batch_size': 32}. Best is trial 19 with value: 0.9820705601451223.\n"
     ]
    },
    {
     "name": "stdout",
     "output_type": "stream",
     "text": [
      "Best hyperparameters: {'learning_rate': 4.369484270668493e-05, 'dropout_rate': 0.33027803609683487, 'batch_size': 32}\n"
     ]
    }
   ],
   "source": [
    "# Create Optuna study\n",
    "study = optuna.create_study(direction=\"maximize\")\n",
    "study.optimize(objective, n_trials=20)  # Try 20 different combinations\n",
    "\n",
    "# Print best parameters\n",
    "print(\"Best hyperparameters:\", study.best_params)"
   ]
  },
  {
   "cell_type": "markdown",
   "id": "352b6557-087c-4e0f-920e-bd07822d4e8d",
   "metadata": {
    "tags": []
   },
   "source": [
    "## Best Model"
   ]
  },
  {
   "cell_type": "code",
   "execution_count": 16,
   "id": "84d2fe8d-d37e-4a67-9923-24664e68e993",
   "metadata": {
    "tags": []
   },
   "outputs": [],
   "source": [
    "learning_rate = 4.369484270668493e-05\n",
    "dropout_rate = 0.33027803609683487\n",
    "batch_size = 32\n",
    "num_epochs = 50"
   ]
  },
  {
   "cell_type": "code",
   "execution_count": 14,
   "id": "b968500b-7d89-40a1-8cca-b4cbcf6eb5d7",
   "metadata": {
    "tags": []
   },
   "outputs": [],
   "source": [
    "# Define the final model\n",
    "class BertForFinalNER(nn.Module):\n",
    "    def __init__(self, pretrained_model_name, num_labels, dropout_rate):\n",
    "        super(BertForFinalNER, self).__init__()\n",
    "        self.bert = AutoModel.from_pretrained(pretrained_model_name, output_hidden_states=True)\n",
    "        self.num_hidden_layers = self.bert.config.num_hidden_layers + 1\n",
    "        self.layer_weights = nn.Parameter(torch.ones(self.num_hidden_layers))\n",
    "        self.dropout = nn.Dropout(dropout_rate)\n",
    "        self.classifier = nn.Linear(self.bert.config.hidden_size, num_labels)\n",
    "\n",
    "    def forward(self, input_ids, attention_mask, labels=None):\n",
    "        outputs = self.bert(input_ids=input_ids, attention_mask=attention_mask)\n",
    "        hidden_states = torch.stack(outputs.hidden_states, dim=0)\n",
    "        weighted_hidden_states = torch.sum(self.layer_weights[:, None, None, None] * hidden_states, dim=0)\n",
    "        sequence_output = self.dropout(weighted_hidden_states)\n",
    "        logits = self.classifier(sequence_output)\n",
    "\n",
    "        loss = None\n",
    "        if labels is not None:\n",
    "            loss_fn = nn.CrossEntropyLoss()\n",
    "            active_loss = attention_mask.view(-1) == 1\n",
    "            active_logits = logits.view(-1, logits.size(-1))[active_loss]\n",
    "            active_labels = labels.view(-1)[active_loss]\n",
    "            loss = loss_fn(active_logits, active_labels)\n",
    "\n",
    "        return {\"loss\": loss, \"logits\": logits}"
   ]
  },
  {
   "cell_type": "markdown",
   "id": "c5ac8e8f-4991-4f6d-9040-dc36baf26a0b",
   "metadata": {
    "tags": []
   },
   "source": [
    "### Training"
   ]
  },
  {
   "cell_type": "code",
   "execution_count": 17,
   "id": "6fff4070-6690-414b-80b5-84264cb6973d",
   "metadata": {
    "tags": []
   },
   "outputs": [
    {
     "name": "stderr",
     "output_type": "stream",
     "text": [
      "Training Epoch 1: 100%|██████████| 439/439 [00:40<00:00, 10.85it/s]\n"
     ]
    },
    {
     "name": "stdout",
     "output_type": "stream",
     "text": [
      "Epoch 1 Training Loss: 0.7099\n",
      "Epoch 1 Validation Loss: 0.1487\n",
      "Validation loss improved to 0.1487.\n"
     ]
    },
    {
     "name": "stderr",
     "output_type": "stream",
     "text": [
      "Training Epoch 2: 100%|██████████| 439/439 [00:40<00:00, 10.82it/s]\n"
     ]
    },
    {
     "name": "stdout",
     "output_type": "stream",
     "text": [
      "Epoch 2 Training Loss: 0.1706\n",
      "Epoch 2 Validation Loss: 0.1111\n",
      "Validation loss improved to 0.1111.\n"
     ]
    },
    {
     "name": "stderr",
     "output_type": "stream",
     "text": [
      "Training Epoch 3: 100%|██████████| 439/439 [00:40<00:00, 10.82it/s]\n"
     ]
    },
    {
     "name": "stdout",
     "output_type": "stream",
     "text": [
      "Epoch 3 Training Loss: 0.0782\n",
      "Epoch 3 Validation Loss: 0.1114\n",
      "No improvement for 1 epochs.\n"
     ]
    },
    {
     "name": "stderr",
     "output_type": "stream",
     "text": [
      "Training Epoch 4: 100%|██████████| 439/439 [00:40<00:00, 10.82it/s]\n"
     ]
    },
    {
     "name": "stdout",
     "output_type": "stream",
     "text": [
      "Epoch 4 Training Loss: 0.0502\n",
      "Epoch 4 Validation Loss: 0.1184\n",
      "No improvement for 2 epochs.\n"
     ]
    },
    {
     "name": "stderr",
     "output_type": "stream",
     "text": [
      "Training Epoch 5: 100%|██████████| 439/439 [00:40<00:00, 10.81it/s]\n"
     ]
    },
    {
     "name": "stdout",
     "output_type": "stream",
     "text": [
      "Epoch 5 Training Loss: 0.0325\n",
      "Epoch 5 Validation Loss: 0.1265\n",
      "No improvement for 3 epochs.\n"
     ]
    },
    {
     "name": "stderr",
     "output_type": "stream",
     "text": [
      "Training Epoch 6: 100%|██████████| 439/439 [00:40<00:00, 10.81it/s]\n"
     ]
    },
    {
     "name": "stdout",
     "output_type": "stream",
     "text": [
      "Epoch 6 Training Loss: 0.0249\n",
      "Epoch 6 Validation Loss: 0.1305\n",
      "No improvement for 4 epochs.\n"
     ]
    },
    {
     "name": "stderr",
     "output_type": "stream",
     "text": [
      "Training Epoch 7: 100%|██████████| 439/439 [00:40<00:00, 10.84it/s]\n"
     ]
    },
    {
     "name": "stdout",
     "output_type": "stream",
     "text": [
      "Epoch 7 Training Loss: 0.0197\n",
      "Epoch 7 Validation Loss: 0.1318\n",
      "No improvement for 5 epochs.\n"
     ]
    },
    {
     "name": "stderr",
     "output_type": "stream",
     "text": [
      "Training Epoch 8: 100%|██████████| 439/439 [00:40<00:00, 10.85it/s]\n"
     ]
    },
    {
     "name": "stdout",
     "output_type": "stream",
     "text": [
      "Epoch 8 Training Loss: 0.0127\n",
      "Epoch 8 Validation Loss: 0.1487\n",
      "No improvement for 6 epochs.\n"
     ]
    },
    {
     "name": "stderr",
     "output_type": "stream",
     "text": [
      "Training Epoch 9: 100%|██████████| 439/439 [00:40<00:00, 10.85it/s]\n"
     ]
    },
    {
     "name": "stdout",
     "output_type": "stream",
     "text": [
      "Epoch 9 Training Loss: 0.0116\n",
      "Epoch 9 Validation Loss: 0.1443\n",
      "No improvement for 7 epochs.\n"
     ]
    },
    {
     "name": "stderr",
     "output_type": "stream",
     "text": [
      "Training Epoch 10: 100%|██████████| 439/439 [00:40<00:00, 10.84it/s]\n"
     ]
    },
    {
     "name": "stdout",
     "output_type": "stream",
     "text": [
      "Epoch 10 Training Loss: 0.0121\n",
      "Epoch 10 Validation Loss: 0.1519\n",
      "No improvement for 8 epochs.\n"
     ]
    },
    {
     "name": "stderr",
     "output_type": "stream",
     "text": [
      "Training Epoch 11: 100%|██████████| 439/439 [00:40<00:00, 10.84it/s]\n"
     ]
    },
    {
     "name": "stdout",
     "output_type": "stream",
     "text": [
      "Epoch 11 Training Loss: 0.0131\n",
      "Epoch 11 Validation Loss: 0.1428\n",
      "No improvement for 9 epochs.\n"
     ]
    },
    {
     "name": "stderr",
     "output_type": "stream",
     "text": [
      "Training Epoch 12: 100%|██████████| 439/439 [00:40<00:00, 10.85it/s]\n"
     ]
    },
    {
     "name": "stdout",
     "output_type": "stream",
     "text": [
      "Epoch 12 Training Loss: 0.0064\n",
      "Epoch 12 Validation Loss: 0.1275\n",
      "No improvement for 10 epochs.\n",
      "Early stopping triggered. Training stopped.\n"
     ]
    },
    {
     "data": {
      "image/png": "[encoded data removed]",
      "text/plain": [
       "<Figure size 1000x600 with 1 Axes>"
      ]
     },
     "metadata": {},
     "output_type": "display_data"
    }
   ],
   "source": [
    "# Instantiate the model with the best dropout rate\n",
    "device = torch.device(\"cuda\" if torch.cuda.is_available() else \"cpu\")\n",
    "model = BertForFinalNER(pretrained_model_name=\"bert-base-cased\", num_labels=num_labels, dropout_rate=dropout_rate).to(device)\n",
    "\n",
    "# Define the optimizer with the best learning rate\n",
    "optimizer = AdamW(model.parameters(), lr=learning_rate)\n",
    "\n",
    "# Define the learning rate scheduler\n",
    "num_training_steps = num_epochs * len(train_loader)  # Total number of steps (batches * epochs)\n",
    "lr_scheduler = get_scheduler(\n",
    "    name=\"linear\", optimizer=optimizer, num_warmup_steps=0, num_training_steps=num_training_steps\n",
    ")\n",
    "\n",
    "# Prepare data loaders with the best batch size\n",
    "train_loader = DataLoader(tokenized_datasets[\"train\"], batch_size=batch_size, collate_fn=collate_fn)\n",
    "val_loader = DataLoader(tokenized_datasets[\"validation\"], batch_size=batch_size, collate_fn=collate_fn)\n",
    "\n",
    "# Track loss values\n",
    "train_losses = []\n",
    "val_losses = []\n",
    "\n",
    "# Early stopping parameters\n",
    "patience = 10  # Number of epochs to wait for improvement\n",
    "min_delta = 0.001  # Minimum change to qualify as improvement\n",
    "best_val_loss = float(\"inf\")\n",
    "epochs_without_improvement = 0\n",
    "\n",
    "# Training and validation loops\n",
    "for epoch in range(num_epochs):\n",
    "    model.train()\n",
    "    total_train_loss = 0\n",
    "    for batch in tqdm(train_loader, desc=f\"Training Epoch {epoch + 1}\"):\n",
    "        optimizer.zero_grad()\n",
    "        input_ids = batch[\"input_ids\"].to(device)\n",
    "        attention_mask = batch[\"attention_mask\"].to(device)\n",
    "        labels = batch[\"labels\"].to(device)\n",
    "\n",
    "        outputs = model(input_ids=input_ids, attention_mask=attention_mask, labels=labels)\n",
    "        loss = outputs[\"loss\"]\n",
    "        loss.backward()\n",
    "        optimizer.step()\n",
    "        lr_scheduler.step()  # Update learning rate\n",
    "        total_train_loss += loss.item()\n",
    "    \n",
    "    avg_train_loss = total_train_loss / len(train_loader)\n",
    "    train_losses.append(avg_train_loss)\n",
    "    print(f\"Epoch {epoch + 1} Training Loss: {avg_train_loss:.4f}\")\n",
    "\n",
    "    # Validation loop\n",
    "    model.eval()\n",
    "    total_val_loss = 0\n",
    "    predictions, true_labels = [], []\n",
    "    with torch.no_grad():\n",
    "        for batch in val_loader:\n",
    "            input_ids = batch[\"input_ids\"].to(device)\n",
    "            attention_mask = batch[\"attention_mask\"].to(device)\n",
    "            labels = batch[\"labels\"].to(device)\n",
    "\n",
    "            outputs = model(input_ids=input_ids, attention_mask=attention_mask, labels=labels)\n",
    "            loss = outputs[\"loss\"]\n",
    "            total_val_loss += loss.item()\n",
    "\n",
    "            logits = outputs[\"logits\"]\n",
    "            preds = torch.argmax(logits, dim=-1)\n",
    "\n",
    "            for pred, label in zip(preds.cpu().numpy(), labels.cpu().numpy()):\n",
    "                predictions.append([label_list[p] for p, l in zip(pred, label) if l != -100])\n",
    "                true_labels.append([label_list[l] for p, l in zip(pred, label) if l != -100])\n",
    "\n",
    "    avg_val_loss = total_val_loss / len(val_loader)\n",
    "    val_losses.append(avg_val_loss)\n",
    "    print(f\"Epoch {epoch + 1} Validation Loss: {avg_val_loss:.4f}\")\n",
    "\n",
    "    # Check for improvement\n",
    "    if avg_val_loss < best_val_loss - min_delta:\n",
    "        best_val_loss = avg_val_loss\n",
    "        epochs_without_improvement = 0\n",
    "        print(f\"Validation loss improved to {avg_val_loss:.4f}.\")\n",
    "    else:\n",
    "        epochs_without_improvement += 1\n",
    "        print(f\"No improvement for {epochs_without_improvement} epochs.\")\n",
    "\n",
    "    # Early stopping\n",
    "    if epochs_without_improvement >= patience:\n",
    "        print(\"Early stopping triggered. Training stopped.\")\n",
    "        break\n",
    "\n",
    "# Compute evaluation metrics\n",
    "flattened_preds = [label for seq in predictions for label in seq]\n",
    "flattened_labels = [label for seq in true_labels for label in seq]\n",
    "\n",
    "accuracy = accuracy_score(flattened_labels, flattened_preds)\n",
    "f1 = f1_score(flattened_labels, flattened_preds, average=\"weighted\")\n",
    "\n",
    "# Plot training and validation loss curves\n",
    "plt.figure(figsize=(10, 6))\n",
    "plt.plot(range(1, len(train_losses) + 1), train_losses, label=\"Training Loss\")\n",
    "plt.plot(range(1, len(val_losses) + 1), val_losses, label=\"Validation Loss\")\n",
    "plt.xlabel(\"Epochs\")\n",
    "plt.ylabel(\"Loss\")\n",
    "plt.title(\"Training and Validation Loss Curves\")\n",
    "plt.legend()\n",
    "plt.grid()\n",
    "plt.show()"
   ]
  },
  {
   "cell_type": "code",
   "execution_count": 19,
   "id": "e5789cc7-7ea3-4433-96fe-ce3dbc64b411",
   "metadata": {
    "tags": []
   },
   "outputs": [
    {
     "name": "stdout",
     "output_type": "stream",
     "text": [
      "Classification Report:\n",
      "              precision    recall  f1-score   support\n",
      "\n",
      "       B-LOC     0.9649    0.9538    0.9593      3635\n",
      "      B-MISC     0.8454    0.9203    0.8813      1480\n",
      "       B-ORG     0.9448    0.9256    0.9351      2702\n",
      "       B-PER     0.9746    0.9582    0.9664      3329\n",
      "       I-LOC     0.9213    0.9213    0.9213       381\n",
      "      I-MISC     0.8130    0.8680    0.8396       591\n",
      "       I-ORG     0.9420    0.9175    0.9296      1079\n",
      "       I-PER     0.9872    0.9904    0.9888      3028\n",
      "           O     0.9956    0.9956    0.9956     51723\n",
      "\n",
      "    accuracy                         0.9841     67948\n",
      "   macro avg     0.9321    0.9390    0.9352     67948\n",
      "weighted avg     0.9844    0.9841    0.9842     67948\n",
      "\n",
      "Validation Accuracy: 0.9841\n",
      "Validation F1 Score: 0.9842\n"
     ]
    }
   ],
   "source": [
    "from sklearn.metrics import classification_report, accuracy_score, f1_score\n",
    "\n",
    "# Compute evaluation metrics\n",
    "flattened_preds = [label for seq in predictions for label in seq]\n",
    "flattened_labels = [label for seq in true_labels for label in seq]\n",
    "\n",
    "# Compute accuracy\n",
    "accuracy = accuracy_score(flattened_labels, flattened_preds)\n",
    "\n",
    "# Compute F1 score\n",
    "f1 = f1_score(flattened_labels, flattened_preds, average=\"weighted\")\n",
    "\n",
    "# Print the classification report\n",
    "print(\"Classification Report:\")\n",
    "print(classification_report(flattened_labels, flattened_preds, digits=4))\n",
    "\n",
    "# Print overall accuracy\n",
    "print(f\"Validation Accuracy: {accuracy:.4f}\")\n",
    "print(f\"Validation F1 Score: {f1:.4f}\")\n"
   ]
  },
  {
   "cell_type": "markdown",
   "id": "f62c8fd2-432b-4938-b2bb-5a403c9553aa",
   "metadata": {
    "tags": []
   },
   "source": [
    "### Testing"
   ]
  },
  {
   "cell_type": "code",
   "execution_count": 20,
   "id": "99a3b72c-b910-4123-aaf9-c6024e4f37be",
   "metadata": {
    "tags": []
   },
   "outputs": [
    {
     "name": "stderr",
     "output_type": "stream",
     "text": [
      "Testing: 100%|██████████| 108/108 [00:03<00:00, 32.25it/s]\n"
     ]
    },
    {
     "name": "stdout",
     "output_type": "stream",
     "text": [
      "Test Classification Report:\n",
      "              precision    recall  f1-score   support\n",
      "\n",
      "       B-LOC     0.9150    0.9080    0.9115      3000\n",
      "      B-MISC     0.7014    0.7662    0.7324      1266\n",
      "       B-ORG     0.8992    0.9066    0.9029      3524\n",
      "       B-PER     0.9503    0.9284    0.9392      2989\n",
      "       I-LOC     0.8771    0.8582    0.8676       416\n",
      "      I-MISC     0.3450    0.7360    0.4698       322\n",
      "       I-ORG     0.8859    0.9198    0.9025      1309\n",
      "       I-PER     0.9747    0.9959    0.9852      2710\n",
      "           O     0.9935    0.9827    0.9881     47925\n",
      "\n",
      "    accuracy                         0.9653     63461\n",
      "   macro avg     0.8380    0.8891    0.8555     63461\n",
      "weighted avg     0.9696    0.9653    0.9670     63461\n",
      "\n",
      "Test Accuracy: 0.9653\n",
      "Test F1 Score: 0.9670\n"
     ]
    }
   ],
   "source": [
    "from sklearn.metrics import classification_report, accuracy_score, f1_score\n",
    "from tqdm import tqdm\n",
    "\n",
    "# Prepare the test data loader\n",
    "test_loader = DataLoader(tokenized_datasets[\"test\"], batch_size=batch_size, collate_fn=collate_fn)\n",
    "\n",
    "# Evaluate on the test set\n",
    "model.eval()\n",
    "test_predictions, test_true_labels = [], []\n",
    "with torch.no_grad():\n",
    "    for batch in tqdm(test_loader, desc=\"Testing\"):\n",
    "        input_ids = batch[\"input_ids\"].to(device)\n",
    "        attention_mask = batch[\"attention_mask\"].to(device)\n",
    "        labels = batch[\"labels\"].to(device)\n",
    "\n",
    "        outputs = model(input_ids=input_ids, attention_mask=attention_mask)\n",
    "        logits = outputs[\"logits\"]\n",
    "        preds = torch.argmax(logits, dim=-1)\n",
    "\n",
    "        for pred, label in zip(preds.cpu().numpy(), labels.cpu().numpy()):\n",
    "            test_predictions.append([label_list[p] for p, l in zip(pred, label) if l != -100])\n",
    "            test_true_labels.append([label_list[l] for p, l in zip(pred, label) if l != -100])\n",
    "\n",
    "# Flatten predictions and true labels for the test set\n",
    "flattened_test_preds = [label for seq in test_predictions for label in seq]\n",
    "flattened_test_labels = [label for seq in test_true_labels for label in seq]\n",
    "\n",
    "# Compute metrics\n",
    "test_accuracy = accuracy_score(flattened_test_labels, flattened_test_preds)\n",
    "test_f1 = f1_score(flattened_test_labels, flattened_test_preds, average=\"weighted\")\n",
    "\n",
    "# Print the complete classification report for the test set\n",
    "print(\"Test Classification Report:\")\n",
    "print(classification_report(flattened_test_labels, flattened_test_preds, digits=4))\n",
    "\n",
    "# Print test accuracy and F1 score\n",
    "print(f\"Test Accuracy: {test_accuracy:.4f}\")\n",
    "print(f\"Test F1 Score: {test_f1:.4f}\")\n"
   ]
  },
  {
   "cell_type": "code",
   "execution_count": 27,
   "id": "3f678b14-6ae2-4d1b-89b6-6830316c2be4",
   "metadata": {
    "tags": []
   },
   "outputs": [
    {
     "data": {
      "image/png": "[encoded data removed]",
      "text/plain": [
       "<Figure size 800x600 with 1 Axes>"
      ]
     },
     "metadata": {},
     "output_type": "display_data"
    }
   ],
   "source": [
    "import matplotlib.pyplot as plt\n",
    "import numpy as np\n",
    "from sklearn.metrics import classification_report\n",
    "\n",
    "# Generate classification report\n",
    "report = classification_report(flattened_test_labels, flattened_test_preds, output_dict=True)\n",
    "\n",
    "# Extract class-wise F1-scores\n",
    "classes = list(report.keys())[:-3]  # Exclude 'accuracy', 'macro avg', 'weighted avg'\n",
    "f1_scores = [report[cls][\"f1-score\"] for cls in classes]\n",
    "\n",
    "# Bar plot for F1-scores\n",
    "plt.figure(figsize=(8, 6))\n",
    "plt.bar(classes, f1_scores, color='skyblue')\n",
    "plt.xlabel(\"Classes\")\n",
    "plt.ylabel(\"F1 Score\")\n",
    "plt.title(\"F1 Score by Class\")\n",
    "plt.xticks(rotation=45)\n",
    "plt.ylim(0, 1.0)\n",
    "plt.grid(axis=\"y\")\n",
    "plt.show()\n"
   ]
  },
  {
   "cell_type": "code",
   "execution_count": 28,
   "id": "01264916-a3bd-4b1b-ad81-a6249e8b7fa2",
   "metadata": {
    "tags": []
   },
   "outputs": [
    {
     "data": {
      "image/png": "[encoded data removed]",
      "text/plain": [
       "<Figure size 800x600 with 2 Axes>"
      ]
     },
     "metadata": {},
     "output_type": "display_data"
    }
   ],
   "source": [
    "from sklearn.metrics import ConfusionMatrixDisplay, confusion_matrix\n",
    "\n",
    "# Compute confusion matrix\n",
    "labels = list(set(flattened_test_labels))\n",
    "cm = confusion_matrix(flattened_test_labels, flattened_test_preds, labels=labels)\n",
    "\n",
    "# Plot confusion matrix\n",
    "fig, ax = plt.subplots(figsize=(8, 6))\n",
    "disp = ConfusionMatrixDisplay(confusion_matrix=cm, display_labels=labels)\n",
    "disp.plot(cmap=\"Blues\", ax=ax, xticks_rotation=\"vertical\")\n",
    "plt.title(\"Confusion Matrix for NER Tags\")\n",
    "plt.show()\n"
   ]
  },
  {
   "cell_type": "code",
   "execution_count": 33,
   "id": "3892b035-9a99-4249-918b-bc5355217471",
   "metadata": {
    "tags": []
   },
   "outputs": [
    {
     "name": "stdout",
     "output_type": "stream",
     "text": [
      "Test Input Sentence:\n",
      "Barack Obama visited Paris.\n",
      "\n",
      "Tokenized Input:\n",
      "['[CLS]', 'Barack', 'Obama', 'visited', 'Paris', '.', '[SEP]']\n",
      "\n",
      "Predicted Labels:\n",
      "['O', 'B-PER', 'I-PER', 'O', 'B-LOC', 'O', 'B-LOC']\n"
     ]
    }
   ],
   "source": [
    "# Define a test sentence\n",
    "test_sentence = \"Barack Obama visited Paris.\"\n",
    "\n",
    "inputs = tokenizer(\n",
    "    test_sentence,\n",
    "    return_tensors=\"pt\",\n",
    "    truncation=True,\n",
    "    padding=True,\n",
    "    is_split_into_words=False\n",
    ")\n",
    "\n",
    "# Remove token_type_ids if present\n",
    "if \"token_type_ids\" in inputs:\n",
    "    del inputs[\"token_type_ids\"]\n",
    "\n",
    "# Move inputs to the appropriate device\n",
    "inputs = {key: val.to(device) for key, val in inputs.items()}\n",
    "\n",
    "# Run the model\n",
    "model.eval()\n",
    "with torch.no_grad():\n",
    "    outputs = model(**inputs)\n",
    "\n",
    "# Get predictions\n",
    "logits = outputs[\"logits\"]\n",
    "predictions = torch.argmax(logits, dim=-1).squeeze().cpu().numpy()\n",
    "\n",
    "# Decode predictions back to labels\n",
    "tokens = tokenizer.convert_ids_to_tokens(inputs[\"input_ids\"].squeeze().cpu().numpy())\n",
    "predicted_labels = [label_list[pred] for pred in predictions]\n",
    "\n",
    "# Print the input and output\n",
    "print(\"Test Input Sentence:\")\n",
    "print(test_sentence)\n",
    "print(\"\\nTokenized Input:\")\n",
    "print(tokens)\n",
    "print(\"\\nPredicted Labels:\")\n",
    "print(predicted_labels)\n"
   ]
  },
  {
   "cell_type": "markdown",
   "id": "a9c97eb1-0ea9-4e3e-a5a1-71933631d027",
   "metadata": {
    "tags": []
   },
   "source": [
    "### Model Architecture"
   ]
  },
  {
   "cell_type": "code",
   "execution_count": 22,
   "id": "e693ee90-9fbc-49af-b606-ff2492dfe33b",
   "metadata": {
    "tags": []
   },
   "outputs": [
    {
     "name": "stdout",
     "output_type": "stream",
     "text": [
      "Model, tokenizer, and configuration saved to ./bert_ner_model\n"
     ]
    }
   ],
   "source": [
    "import os\n",
    "import torch\n",
    "\n",
    "# Define the directory to save the model\n",
    "save_directory = \"./bert_ner_model\"\n",
    "os.makedirs(save_directory, exist_ok=True)\n",
    "\n",
    "# Save the model\n",
    "torch.save(model.state_dict(), os.path.join(save_directory, \"pytorch_model.bin\"))\n",
    "\n",
    "# Save the tokenizer\n",
    "tokenizer.save_pretrained(save_directory)\n",
    "\n",
    "# Save model configuration\n",
    "with open(os.path.join(save_directory, \"config.json\"), \"w\") as f:\n",
    "    f.write(model.bert.config.to_json_string())\n",
    "\n",
    "print(f\"Model, tokenizer, and configuration saved to {save_directory}\")\n"
   ]
  },
  {
   "cell_type": "code",
   "execution_count": 24,
   "id": "71905196-2629-4a2a-88fd-a98fe48b2eb1",
   "metadata": {
    "tags": []
   },
   "outputs": [
    {
     "name": "stdout",
     "output_type": "stream",
     "text": [
      "Model architecture diagram saved as 'model_architecture.png'.\n"
     ]
    }
   ],
   "source": [
    "from torchviz import make_dot\n",
    "from transformers import AutoTokenizer\n",
    "\n",
    "# Create dummy inputs for the model\n",
    "tokenizer = AutoTokenizer.from_pretrained(\"bert-base-cased\")\n",
    "dummy_sentence = \"Steve Jobs founded Apple in California.\"\n",
    "dummy_inputs = tokenizer(dummy_sentence, return_tensors=\"pt\", padding=True, truncation=True)\n",
    "\n",
    "# Move inputs to the appropriate device\n",
    "dummy_inputs = {key: val.to(device) for key, val in dummy_inputs.items()}\n",
    "\n",
    "# Forward pass through the model\n",
    "model.eval()\n",
    "outputs = model(input_ids=dummy_inputs[\"input_ids\"], attention_mask=dummy_inputs[\"attention_mask\"])\n",
    "\n",
    "# Visualize the computation graph\n",
    "graph = make_dot(outputs[\"logits\"], params=dict(model.named_parameters()))\n",
    "graph.render(\"model_architecture\", format=\"png\")\n",
    "\n",
    "print(\"Model architecture diagram saved as 'model_architecture.png'.\")\n"
   ]
  },
  {
   "cell_type": "code",
   "execution_count": 26,
   "id": "abf944f7-eb2b-499d-93b7-81ddb51e630d",
   "metadata": {
    "tags": []
   },
   "outputs": [
    {
     "name": "stdout",
     "output_type": "stream",
     "text": [
      "Enhanced model diagram saved as 'enhanced_bert_ner_model.png'.\n"
     ]
    }
   ],
   "source": [
    "from graphviz import Digraph\n",
    "\n",
    "# Create a directed graph\n",
    "dot = Digraph(comment='Enhanced BERT NER Model Architecture', format=\"png\")\n",
    "\n",
    "# Add nodes\n",
    "dot.node('A', 'Input Sentence\\n(e.g., \"Steve Jobs founded Apple.\")', shape='box')\n",
    "dot.node('B', 'Tokenizer\\n(WordPiece Tokenization)', shape='box')\n",
    "dot.node('C', 'BERT-base Encoder\\n(Hidden States for All Layers)', shape='box')\n",
    "dot.node('D', 'Layer Attention\\n(Combine All Layers)', shape='ellipse')\n",
    "dot.node('E', 'Dropout Layer\\n(Regularization)', shape='ellipse')\n",
    "dot.node('F', 'Fully Connected Layer\\n(Classifier)', shape='ellipse')\n",
    "dot.node('G', 'Output Tags\\n(e.g., [B-PER, O, B-ORG])', shape='box')\n",
    "\n",
    "# Connect nodes\n",
    "dot.edges(['AB', 'BC', 'CD', 'DE', 'EF', 'FG'])\n",
    "\n",
    "# Render the graph\n",
    "dot.render('enhanced_bert_ner_model', format=\"png\", cleanup=True)\n",
    "\n",
    "print(\"Enhanced model diagram saved as 'enhanced_bert_ner_model.png'.\")\n"
   ]
  },
  {
   "cell_type": "code",
   "execution_count": null,
   "id": "31dd1793-d47f-4190-af1c-424e4be4d3f6",
   "metadata": {},
   "outputs": [],
   "source": []
  },
  {
   "cell_type": "code",
   "execution_count": 36,
   "id": "d6887c72-8fc4-44cd-aa37-67b85e6b6726",
   "metadata": {
    "tags": []
   },
   "outputs": [
    {
     "name": "stdout",
     "output_type": "stream",
     "text": [
      "Train size: 14041\n",
      "Validation size: 3250\n",
      "Test size: 3453\n"
     ]
    }
   ],
   "source": [
    "print(\"Train size:\", len(tokenized_datasets[\"train\"]))\n",
    "print(\"Validation size:\", len(tokenized_datasets[\"validation\"]))\n",
    "print(\"Test size:\", len(tokenized_datasets[\"test\"]))\n"
   ]
  },
  {
   "cell_type": "code",
   "execution_count": 38,
   "id": "17257f5a-bdbb-43ab-a5ef-d42c99ae3378",
   "metadata": {
    "tags": []
   },
   "outputs": [],
   "source": [
    "train_labels = set([label for example in tokenized_datasets[\"train\"] for label in example[\"labels\"] if label != -100])\n",
    "test_labels = set([label for example in tokenized_datasets[\"test\"] for label in example[\"labels\"] if label != -100])\n",
    "assert train_labels == test_labels, \"Train and test labels do not match!\""
   ]
  },
  {
   "cell_type": "code",
   "execution_count": 39,
   "id": "f4e6e990-fdde-4e70-acab-067678fcd1dd",
   "metadata": {
    "tags": []
   },
   "outputs": [
    {
     "name": "stdout",
     "output_type": "stream",
     "text": [
      "Number of overlapping tokens between train and test: 78\n"
     ]
    },
    {
     "ename": "AssertionError",
     "evalue": "Train and test sets have overlapping tokens!",
     "output_type": "error",
     "traceback": [
      "\u001b[0;31m---------------------------------------------------------------------------\u001b[0m",
      "\u001b[0;31mAssertionError\u001b[0m                            Traceback (most recent call last)",
      "Cell \u001b[0;32mIn[39], line 7\u001b[0m\n\u001b[1;32m      5\u001b[0m common_tokens \u001b[38;5;241m=\u001b[39m train_tokens \u001b[38;5;241m&\u001b[39m test_tokens\n\u001b[1;32m      6\u001b[0m \u001b[38;5;28mprint\u001b[39m(\u001b[38;5;124m\"\u001b[39m\u001b[38;5;124mNumber of overlapping tokens between train and test:\u001b[39m\u001b[38;5;124m\"\u001b[39m, \u001b[38;5;28mlen\u001b[39m(common_tokens))\n\u001b[0;32m----> 7\u001b[0m \u001b[38;5;28;01massert\u001b[39;00m \u001b[38;5;28mlen\u001b[39m(common_tokens) \u001b[38;5;241m==\u001b[39m \u001b[38;5;241m0\u001b[39m, \u001b[38;5;124m\"\u001b[39m\u001b[38;5;124mTrain and test sets have overlapping tokens!\u001b[39m\u001b[38;5;124m\"\u001b[39m\n",
      "\u001b[0;31mAssertionError\u001b[0m: Train and test sets have overlapping tokens!"
     ]
    }
   ],
   "source": [
    "train_tokens = set(tuple(example[\"tokens\"]) for example in tokenized_datasets[\"train\"])\n",
    "test_tokens = set(tuple(example[\"tokens\"]) for example in tokenized_datasets[\"test\"])\n",
    "\n",
    "# Check for overlap\n",
    "common_tokens = train_tokens & test_tokens\n",
    "print(\"Number of overlapping tokens between train and test:\", len(common_tokens))\n",
    "assert len(common_tokens) == 0, \"Train and test sets have overlapping tokens!\"\n"
   ]
  },
  {
   "cell_type": "code",
   "execution_count": null,
   "id": "d7206f55-8763-48b1-bf9a-8b7b86c2556e",
   "metadata": {},
   "outputs": [],
   "source": []
  }
 ],
 "metadata": {
  "kernelspec": {
   "display_name": "conda_pytorch_p310",
   "language": "python",
   "name": "conda_pytorch_p310"
  },
  "language_info": {
   "codemirror_mode": {
    "name": "ipython",
    "version": 3
   },
   "file_extension": ".py",
   "mimetype": "text/x-python",
   "name": "python",
   "nbconvert_exporter": "python",
   "pygments_lexer": "ipython3",
   "version": "3.10.14"
  }
 },
 "nbformat": 4,
 "nbformat_minor": 5
}
